{
  "nbformat": 4,
  "nbformat_minor": 0,
  "metadata": {
    "accelerator": "GPU",
    "colab": {
      "name": "CS224W - Colab 5.ipynb",
      "provenance": [],
      "collapsed_sections": [],
      "toc_visible": true,
      "machine_shape": "hm"
    },
    "kernelspec": {
      "display_name": "Python 3",
      "language": "python",
      "name": "python3"
    },
    "language_info": {
      "codemirror_mode": {
        "name": "ipython",
        "version": 3
      },
      "file_extension": ".py",
      "mimetype": "text/x-python",
      "name": "python",
      "nbconvert_exporter": "python",
      "pygments_lexer": "ipython3",
      "version": "3.7.3"
    }
  },
  "cells": [
    {
      "cell_type": "markdown",
      "metadata": {
        "id": "XuXWJLEm2UWS"
      },
      "source": [
        "# **CS224W - Colab 5**"
      ]
    },
    {
      "cell_type": "markdown",
      "metadata": {
        "id": "8gzsP50bF6Gb"
      },
      "source": [
        "In this Colab we will experiment on scaling up GNNs using PyTorch Geometric, DeepSNAP and NetworkX. As we have **canceled** the Colab 5 assignment, this notebook will be a tutorial and you do not need to submit it on Gradescope.\n",
        "\n",
        "At first, we will use PyTorch Geometric `NeighborSampler` to scale up the training and testing on OGB `arxiv` dataset.\n",
        "\n",
        "Then, using the DeepSNAP and NetworkX, we will implement a simplified version of `NeighborSampler` and run experiments with different smapling ratios on the Cora graph.\n",
        "\n",
        "At last, we will partition the Cora graph into clusters by using different partition algorithms and then train the models in the way of vanilla Cluster-GCN.\n",
        "\n",
        "**Note**: Make sure to **sequentially run all the cells in each section**, so that the intermediate variables / packages will carry over to the next cell"
      ]
    },
    {
      "cell_type": "markdown",
      "metadata": {
        "id": "MSaetj53YnT6"
      },
      "source": [
        "# Device\n",
        "You might need to use GPU for this Colab.\n",
        "\n",
        "Please click `Runtime` and then `Change runtime type`. Then set the `hardware accelerator` to **GPU**."
      ]
    },
    {
      "cell_type": "markdown",
      "metadata": {
        "id": "67gOQITlCNQi"
      },
      "source": [
        "# Installation"
      ]
    },
    {
      "cell_type": "code",
      "metadata": {
        "id": "J_m9l6OYCQZP",
        "outputId": "5e2f4c7e-c0b3-4bcc-9bfa-c486f98ee8ab",
        "colab": {
          "base_uri": "https://localhost:8080/"
        }
      },
      "source": [
        "!pip install -q torch-scatter -f https://pytorch-geometric.com/whl/torch-1.8.0+cu101.html\n",
        "!pip install -q torch-sparse -f https://pytorch-geometric.com/whl/torch-1.8.0+cu101.html\n",
        "!pip install -q torch-geometric\n",
        "!pip install -q ogb\n",
        "!pip install -q git+https://github.com/snap-stanford/deepsnap.git"
      ],
      "execution_count": 3,
      "outputs": [
        {
          "output_type": "stream",
          "text": [
            "  Building wheel for deepsnap (setup.py) ... \u001b[?25l\u001b[?25hdone\n"
          ],
          "name": "stdout"
        }
      ]
    },
    {
      "cell_type": "code",
      "metadata": {
        "id": "PRfgbfTjCRD_",
        "outputId": "4230f1db-3033-4ab0-a8bd-5f49400293c2",
        "colab": {
          "base_uri": "https://localhost:8080/",
          "height": 35
        }
      },
      "source": [
        "import torch_geometric\n",
        "torch_geometric.__version__"
      ],
      "execution_count": 4,
      "outputs": [
        {
          "output_type": "execute_result",
          "data": {
            "application/vnd.google.colaboratory.intrinsic+json": {
              "type": "string"
            },
            "text/plain": [
              "'1.7.0'"
            ]
          },
          "metadata": {
            "tags": []
          },
          "execution_count": 4
        }
      ]
    },
    {
      "cell_type": "markdown",
      "metadata": {
        "id": "SxkYLgxAOxz7"
      },
      "source": [
        "# 1 PyTorch Geometric Neighbor Sampling\n",
        "\n",
        "Neighbor Sampling, originally proposed in **GraphSAGE** ([Hamilton et al. (2017)](https://arxiv.org/abs/1706.02216)), is a representative method to scale up GNNs. As what we have learned in lecture, only a K-hop neighborhood nodes will be loaded into GPU for each time training. To further reduce the cost, we can sample a subset of neighborhood nodes for GNNs to aggregate."
      ]
    },
    {
      "cell_type": "markdown",
      "metadata": {
        "id": "Kho6SHUVO1ny"
      },
      "source": [
        "## Setup"
      ]
    },
    {
      "cell_type": "code",
      "metadata": {
        "id": "X1WJLGKsOx_k"
      },
      "source": [
        "import copy\n",
        "import torch\n",
        "import torch.nn.functional as F\n",
        "import torch_geometric.transforms as T\n",
        "\n",
        "from torch_geometric.nn import SAGEConv\n",
        "from torch_geometric.data import NeighborSampler\n",
        "from ogb.nodeproppred import PygNodePropPredDataset, Evaluator"
      ],
      "execution_count": 5,
      "outputs": []
    },
    {
      "cell_type": "markdown",
      "metadata": {
        "id": "UKqZWqRbO7km"
      },
      "source": [
        "## Neighbor Sampler\n",
        "\n",
        "PyTorch Geometric has implemented the Neighbor Sampling method as the [NeighborSampler](https://pytorch-geometric.readthedocs.io/en/latest/modules/data.html#torch_geometric.data.NeighborSampler) in `torch_geometric.data`. Following is an example that uses the Neighbor Sampling method on training the OGB `arxiv` dataset.\n",
        "\n",
        "If you are interested in memory-efficient aggregations, please refer to PyG's [Memory-Efficient Aggregations](https://pytorch-geometric.readthedocs.io/en/latest/notes/sparse_tensor.html)."
      ]
    },
    {
      "cell_type": "code",
      "metadata": {
        "id": "nWlyStlRO6_u",
        "outputId": "9ce65c44-d2bd-4704-bf1a-c8f43c74ccb4",
        "colab": {
          "base_uri": "https://localhost:8080/"
        }
      },
      "source": [
        "dataset_name = 'ogbn-arxiv'\n",
        "dataset = PygNodePropPredDataset(name=dataset_name,\n",
        "                                 transform=T.ToSparseTensor())\n",
        "data = dataset[0]\n",
        "data.adj_t = data.adj_t.to_symmetric()\n",
        "device = 'cuda' if torch.cuda.is_available() else 'cpu'\n",
        "\n",
        "print('Device: {}'.format(device))\n",
        "\n",
        "data = data.to(device)\n",
        "split_idx = dataset.get_idx_split()\n",
        "train_idx = split_idx['train'].to(device)\n",
        "\n",
        "# Construct the training dataloader for training data\n",
        "# Sample 10 neighbors for each node in the first layer and 5 for the second layer\n",
        "train_loader = NeighborSampler(data.adj_t, node_idx=train_idx,\n",
        "                               sizes=[10, 5], batch_size=4096,\n",
        "                               shuffle=True, num_workers=2)\n",
        "\n",
        "# Specify size as -1 to include all neighbors\n",
        "all_loader = NeighborSampler(data.adj_t, node_idx=None, sizes=[-1],\n",
        "                                  batch_size=4096, shuffle=False,\n",
        "                                  num_workers=2)\n",
        "evaluator = Evaluator(name='ogbn-arxiv')"
      ],
      "execution_count": 6,
      "outputs": [
        {
          "output_type": "stream",
          "text": [
            "Downloaded 0.00 GB:   1%|          | 1/81 [00:00<00:10,  7.45it/s]"
          ],
          "name": "stderr"
        },
        {
          "output_type": "stream",
          "text": [
            "Downloading http://snap.stanford.edu/ogb/data/nodeproppred/arxiv.zip\n"
          ],
          "name": "stdout"
        },
        {
          "output_type": "stream",
          "text": [
            "Downloaded 0.08 GB: 100%|██████████| 81/81 [00:04<00:00, 17.47it/s]\n"
          ],
          "name": "stderr"
        },
        {
          "output_type": "stream",
          "text": [
            "Extracting dataset/arxiv.zip\n",
            "Processing...\n",
            "Loading necessary files...\n",
            "This might take a while.\n"
          ],
          "name": "stdout"
        },
        {
          "output_type": "stream",
          "text": [
            "100%|██████████| 1/1 [00:00<00:00, 5282.50it/s]\n",
            "100%|██████████| 1/1 [00:00<00:00, 90.53it/s]"
          ],
          "name": "stderr"
        },
        {
          "output_type": "stream",
          "text": [
            "Processing graphs...\n",
            "Converting graphs into PyG objects...\n",
            "Saving...\n",
            "Done!\n"
          ],
          "name": "stdout"
        },
        {
          "output_type": "stream",
          "text": [
            "\n"
          ],
          "name": "stderr"
        },
        {
          "output_type": "stream",
          "text": [
            "Device: cuda\n"
          ],
          "name": "stdout"
        }
      ]
    },
    {
      "cell_type": "markdown",
      "metadata": {
        "id": "VjdkIcFpRYyl"
      },
      "source": [
        "## GNN Model\n",
        "\n",
        "After creating the `NeighborSampler`, we also need to modify the model to let it support the mini-batch training.\n",
        "\n",
        "The `forward` function will take the node feature `x` and a list of three-element tuples `adjs`. Each element in `adjs` contains following elements:\n",
        "* `edge_index`: The edge index tensor between source and destination nodes, which forms a bipartite grpah.\n",
        "* `e_id`: The indices of the edges in the original graph.\n",
        "* `size`: The shape of the bipartite graph, in (*number of source nodes*, *number of destination nodes*) format."
      ]
    },
    {
      "cell_type": "code",
      "metadata": {
        "id": "gRBJS_5qRWbu"
      },
      "source": [
        "class SAGE(torch.nn.Module):\n",
        "    def __init__(self, input_dim, hidden_dim, output_dim, num_layers,\n",
        "                 dropout):\n",
        "        super(SAGE, self).__init__()\n",
        "\n",
        "        self.convs = torch.nn.ModuleList()\n",
        "        self.bns = torch.nn.ModuleList()\n",
        "\n",
        "        self.convs.append(SAGEConv(input_dim, hidden_dim))\n",
        "        self.bns.append(torch.nn.BatchNorm1d(hidden_dim))\n",
        "\n",
        "        for i in range(num_layers - 2):\n",
        "            self.convs.append(\n",
        "                SAGEConv(hidden_dim, hidden_dim))\n",
        "            self.bns.append(torch.nn.BatchNorm1d(hidden_dim))\n",
        "        self.convs.append(SAGEConv(hidden_dim, output_dim))\n",
        "\n",
        "        self.softmax = torch.nn.LogSoftmax(dim=1)\n",
        "\n",
        "        self.dropout = dropout\n",
        "\n",
        "        self.num_layers = num_layers\n",
        "\n",
        "    def reset_parameters(self):\n",
        "        for conv in self.convs:\n",
        "            conv.reset_parameters()\n",
        "        for bn in self.bns:\n",
        "            bn.reset_parameters()\n",
        "\n",
        "    def forward(self, x, adjs, mode=\"batch\"):\n",
        "        if mode == \"batch\":\n",
        "            for i, (edge_index, _, size) in enumerate(adjs):\n",
        "                # Extract target node features\n",
        "                x_target = x[:size[1]]\n",
        "\n",
        "                # Update x for next layer reuse\n",
        "                x = self.convs[i]((x, x_target), edge_index)\n",
        "                if i != self.num_layers - 1:\n",
        "                    x = self.bns[i](x)\n",
        "                    x = F.relu(x)\n",
        "                    x = F.dropout(x, p=self.dropout, training=self.training)\n",
        "        else:\n",
        "            for i, conv in enumerate(self.convs):\n",
        "                x = conv(x, adjs)\n",
        "                if i != self.num_layers - 1:\n",
        "                    x = self.bns[i](x)\n",
        "                    x = F.relu(x)\n",
        "                    x = F.dropout(x, p=self.dropout, training=self.training)\n",
        "        return self.softmax(x)\n",
        "    \n",
        "    def inference(self, x_all, all_loader):\n",
        "        # This function will be called in test\n",
        "        for i in range(self.num_layers):\n",
        "            xs = []\n",
        "            for batch_size, n_id, adj in all_loader:\n",
        "                edge_index, _, size = adj.to(device)\n",
        "                x = x_all[n_id].to(device)\n",
        "                x_target = x[:size[1]]\n",
        "                x = self.convs[i]((x, x_target), edge_index)\n",
        "                if i != self.num_layers - 1:\n",
        "                    x = self.bns[i](x)\n",
        "                    x = F.relu(x)\n",
        "                    x = F.dropout(x, p=self.dropout, training=self.training)\n",
        "                \n",
        "                # Append the node embeddings to xs\n",
        "                xs.append(x.cpu())\n",
        "            \n",
        "            # Concat all embeddings into one tensor\n",
        "            x_all = torch.cat(xs, dim=0)\n",
        "\n",
        "        return x_all"
      ],
      "execution_count": 7,
      "outputs": []
    },
    {
      "cell_type": "markdown",
      "metadata": {
        "id": "7cfm7K3wRqqY"
      },
      "source": [
        "## Training and Testing\n",
        "\n",
        "Now lets implement the training and testing functions.\n",
        "\n",
        "In both training and testing, we need to sample batch from the dataloader.\n",
        "\n",
        "Each batch in the `NeighborSampler` dataloader holds three elements:\n",
        "* `batch_size`: The batch size specified in the dataloader.\n",
        "* `n_id`: All nodes (in index format) used in the adjacency matrices.\n",
        "* `adjs`: The three-element tuples."
      ]
    },
    {
      "cell_type": "code",
      "metadata": {
        "id": "-JN0-_QCRn8N"
      },
      "source": [
        "def train(model, data, train_loader, train_idx, optimizer, loss_fn, mode=\"batch\"):\n",
        "    model.train()\n",
        "\n",
        "    total_loss = 0\n",
        "    if mode == \"batch\":\n",
        "        for batch_size, n_id, adjs in train_loader:\n",
        "            # Move all adj sparse tensors to GPU\n",
        "            adjs = [adj.to(device) for adj in adjs]\n",
        "            optimizer.zero_grad()\n",
        "\n",
        "            # Index on the node features\n",
        "            out = model(data.x[n_id], adjs)\n",
        "            train_label = data.y[n_id[:batch_size]].squeeze(-1)\n",
        "            loss = loss_fn(out, train_label)\n",
        "            loss.backward()\n",
        "            optimizer.step()\n",
        "            total_loss += loss.item()\n",
        "    else:\n",
        "        optimizer.zero_grad()\n",
        "        out = model(data.x, data.adj_t, mode=mode)[train_idx]\n",
        "        train_label = data.y.squeeze(1)[train_idx]\n",
        "        loss = loss_fn(out, train_label)\n",
        "        loss.backward()\n",
        "        optimizer.step()\n",
        "        total_loss = loss.item()\n",
        "\n",
        "    return total_loss\n",
        "\n",
        "@torch.no_grad()\n",
        "def test(model, data, all_loader, split_idx, evaluator, mode=\"batch\"):\n",
        "    model.eval()\n",
        "\n",
        "    if mode == \"batch\":\n",
        "        out = model.inference(data.x, all_loader)\n",
        "    else:\n",
        "        out = model(data.x, data.adj_t, mode=\"all\")\n",
        "\n",
        "    y_true = data.y.cpu()\n",
        "    y_pred = out.argmax(dim=-1, keepdim=True)\n",
        "\n",
        "    train_acc = evaluator.eval({\n",
        "        'y_true': y_true[split_idx['train']],\n",
        "        'y_pred': y_pred[split_idx['train']],\n",
        "    })['acc']\n",
        "    valid_acc = evaluator.eval({\n",
        "        'y_true': y_true[split_idx['valid']],\n",
        "        'y_pred': y_pred[split_idx['valid']],\n",
        "    })['acc']\n",
        "    test_acc = evaluator.eval({\n",
        "        'y_true': y_true[split_idx['test']],\n",
        "        'y_pred': y_pred[split_idx['test']],\n",
        "    })['acc']\n",
        "\n",
        "    return train_acc, valid_acc, test_acc"
      ],
      "execution_count": 8,
      "outputs": []
    },
    {
      "cell_type": "markdown",
      "metadata": {
        "id": "AiehZ8OiR2q9"
      },
      "source": [
        "## Mini-batch Training"
      ]
    },
    {
      "cell_type": "code",
      "metadata": {
        "id": "zFaI2eCARy0v",
        "outputId": "c5530f67-27bb-43a1-84b7-f275a9168859",
        "colab": {
          "base_uri": "https://localhost:8080/"
        }
      },
      "source": [
        "args = {\n",
        "    'device': device,\n",
        "    'num_layers': 2,\n",
        "    'hidden_dim': 128,\n",
        "    'dropout': 0.5,\n",
        "    'lr': 0.01,\n",
        "    'epochs': 100,\n",
        "}\n",
        "\n",
        "batch_model = SAGE(data.num_features, args['hidden_dim'],\n",
        "            dataset.num_classes, args['num_layers'],\n",
        "            args['dropout']).to(device)\n",
        "batch_model.reset_parameters()\n",
        "\n",
        "optimizer = torch.optim.Adam(batch_model.parameters(), lr=args['lr'])\n",
        "loss_fn = F.nll_loss\n",
        "\n",
        "best_batch_model = None\n",
        "best_valid_acc = 0\n",
        "\n",
        "batch_results = []\n",
        "\n",
        "for epoch in range(1, 1 + args[\"epochs\"]):\n",
        "    loss = train(batch_model, data, train_loader, train_idx, optimizer, loss_fn, mode=\"batch\")\n",
        "    result = test(batch_model, data, all_loader, split_idx, evaluator, mode=\"batch\")\n",
        "    batch_results.append(result)\n",
        "    train_acc, valid_acc, test_acc = result\n",
        "    if valid_acc > best_valid_acc:\n",
        "        best_valid_acc = valid_acc\n",
        "        best_batch_model = copy.deepcopy(batch_model)\n",
        "    print(f'Epoch: {epoch:02d}, '\n",
        "          f'Loss: {loss:.4f}, '\n",
        "          f'Train: {100 * train_acc:.2f}%, '\n",
        "          f'Valid: {100 * valid_acc:.2f}% '\n",
        "          f'Test: {100 * test_acc:.2f}%')\n",
        "best_result = test(best_batch_model, data, all_loader, split_idx, evaluator, mode=\"batch\")\n",
        "train_acc, valid_acc, test_acc = best_result\n",
        "print(f'Best model: '\n",
        "      f'Train: {100 * train_acc:.2f}%, '\n",
        "      f'Valid: {100 * valid_acc:.2f}% '\n",
        "      f'Test: {100 * test_acc:.2f}%')"
      ],
      "execution_count": 9,
      "outputs": [
        {
          "output_type": "stream",
          "text": [
            "Epoch: 01, Loss: 39.8755, Train: 62.85%, Valid: 64.29% Test: 64.48%\n",
            "Epoch: 02, Loss: 28.5651, Train: 67.29%, Valid: 67.05% Test: 66.43%\n",
            "Epoch: 03, Loss: 26.5543, Train: 68.97%, Valid: 68.53% Test: 68.07%\n",
            "Epoch: 04, Loss: 25.6515, Train: 69.80%, Valid: 68.85% Test: 69.10%\n",
            "Epoch: 05, Loss: 25.1170, Train: 69.49%, Valid: 68.09% Test: 66.53%\n",
            "Epoch: 06, Loss: 24.6267, Train: 70.89%, Valid: 69.71% Test: 69.16%\n",
            "Epoch: 07, Loss: 24.4057, Train: 71.27%, Valid: 69.45% Test: 68.61%\n",
            "Epoch: 08, Loss: 23.9434, Train: 71.58%, Valid: 69.74% Test: 68.93%\n",
            "Epoch: 09, Loss: 23.7608, Train: 72.15%, Valid: 69.51% Test: 68.02%\n",
            "Epoch: 10, Loss: 23.5071, Train: 72.43%, Valid: 69.86% Test: 68.95%\n",
            "Epoch: 11, Loss: 23.4053, Train: 72.56%, Valid: 70.35% Test: 69.52%\n",
            "Epoch: 12, Loss: 23.1486, Train: 72.93%, Valid: 69.76% Test: 68.23%\n",
            "Epoch: 13, Loss: 23.0137, Train: 73.10%, Valid: 70.03% Test: 68.80%\n",
            "Epoch: 14, Loss: 22.8868, Train: 72.92%, Valid: 69.17% Test: 67.55%\n",
            "Epoch: 15, Loss: 22.7737, Train: 73.24%, Valid: 70.07% Test: 68.88%\n",
            "Epoch: 16, Loss: 22.6818, Train: 73.26%, Valid: 69.94% Test: 69.01%\n",
            "Epoch: 17, Loss: 22.4964, Train: 73.30%, Valid: 70.28% Test: 69.23%\n",
            "Epoch: 18, Loss: 22.4430, Train: 73.84%, Valid: 70.30% Test: 69.42%\n",
            "Epoch: 19, Loss: 22.3045, Train: 74.10%, Valid: 69.96% Test: 68.55%\n",
            "Epoch: 20, Loss: 22.2239, Train: 73.99%, Valid: 70.37% Test: 69.46%\n",
            "Epoch: 21, Loss: 22.1624, Train: 74.07%, Valid: 69.84% Test: 68.21%\n",
            "Epoch: 22, Loss: 22.1023, Train: 74.08%, Valid: 70.65% Test: 69.49%\n",
            "Epoch: 23, Loss: 22.1656, Train: 74.33%, Valid: 70.65% Test: 69.77%\n",
            "Epoch: 24, Loss: 22.0745, Train: 74.30%, Valid: 69.94% Test: 68.36%\n",
            "Epoch: 25, Loss: 21.8054, Train: 74.47%, Valid: 70.80% Test: 70.01%\n",
            "Epoch: 26, Loss: 21.9030, Train: 74.81%, Valid: 70.56% Test: 69.43%\n",
            "Epoch: 27, Loss: 21.7823, Train: 74.61%, Valid: 70.56% Test: 69.28%\n",
            "Epoch: 28, Loss: 21.7471, Train: 74.64%, Valid: 70.00% Test: 68.26%\n",
            "Epoch: 29, Loss: 21.7009, Train: 74.56%, Valid: 69.82% Test: 67.87%\n",
            "Epoch: 30, Loss: 21.6024, Train: 74.89%, Valid: 70.29% Test: 69.12%\n",
            "Epoch: 31, Loss: 21.5465, Train: 75.01%, Valid: 70.49% Test: 69.67%\n",
            "Epoch: 32, Loss: 21.4888, Train: 75.03%, Valid: 70.15% Test: 68.73%\n",
            "Epoch: 33, Loss: 21.5338, Train: 75.20%, Valid: 70.64% Test: 69.52%\n",
            "Epoch: 34, Loss: 21.4808, Train: 75.10%, Valid: 70.66% Test: 69.81%\n",
            "Epoch: 35, Loss: 21.3792, Train: 75.31%, Valid: 70.75% Test: 70.02%\n",
            "Epoch: 36, Loss: 21.4255, Train: 75.30%, Valid: 70.47% Test: 68.55%\n",
            "Epoch: 37, Loss: 21.4037, Train: 75.41%, Valid: 70.83% Test: 69.43%\n",
            "Epoch: 38, Loss: 21.4094, Train: 75.46%, Valid: 70.85% Test: 69.62%\n",
            "Epoch: 39, Loss: 21.3404, Train: 75.46%, Valid: 70.81% Test: 70.08%\n",
            "Epoch: 40, Loss: 21.1205, Train: 75.42%, Valid: 70.51% Test: 69.85%\n",
            "Epoch: 41, Loss: 21.2639, Train: 75.43%, Valid: 70.76% Test: 69.86%\n",
            "Epoch: 42, Loss: 21.1339, Train: 75.66%, Valid: 70.68% Test: 69.99%\n",
            "Epoch: 43, Loss: 21.1429, Train: 75.50%, Valid: 70.80% Test: 69.76%\n",
            "Epoch: 44, Loss: 21.1477, Train: 75.77%, Valid: 70.50% Test: 69.02%\n",
            "Epoch: 45, Loss: 21.1762, Train: 75.61%, Valid: 70.78% Test: 69.61%\n",
            "Epoch: 46, Loss: 21.0056, Train: 75.88%, Valid: 70.64% Test: 69.44%\n",
            "Epoch: 47, Loss: 21.0541, Train: 75.53%, Valid: 70.87% Test: 70.35%\n",
            "Epoch: 48, Loss: 21.0224, Train: 75.75%, Valid: 71.09% Test: 70.54%\n",
            "Epoch: 49, Loss: 21.0642, Train: 75.93%, Valid: 71.07% Test: 70.30%\n",
            "Epoch: 50, Loss: 20.9287, Train: 75.96%, Valid: 71.15% Test: 70.45%\n",
            "Epoch: 51, Loss: 20.9578, Train: 76.12%, Valid: 71.05% Test: 70.07%\n",
            "Epoch: 52, Loss: 20.9159, Train: 75.93%, Valid: 70.74% Test: 69.47%\n",
            "Epoch: 53, Loss: 20.7475, Train: 76.12%, Valid: 70.67% Test: 69.98%\n",
            "Epoch: 54, Loss: 20.9005, Train: 76.12%, Valid: 70.78% Test: 69.55%\n",
            "Epoch: 55, Loss: 20.9235, Train: 76.06%, Valid: 70.98% Test: 69.71%\n",
            "Epoch: 56, Loss: 20.6852, Train: 76.37%, Valid: 70.77% Test: 70.00%\n",
            "Epoch: 57, Loss: 20.8610, Train: 76.29%, Valid: 70.80% Test: 69.38%\n",
            "Epoch: 58, Loss: 20.7538, Train: 76.14%, Valid: 70.59% Test: 69.07%\n",
            "Epoch: 59, Loss: 20.7011, Train: 76.32%, Valid: 70.91% Test: 70.22%\n",
            "Epoch: 60, Loss: 20.7711, Train: 76.26%, Valid: 70.96% Test: 69.91%\n",
            "Epoch: 61, Loss: 20.6992, Train: 76.17%, Valid: 70.68% Test: 69.33%\n",
            "Epoch: 62, Loss: 20.8482, Train: 76.35%, Valid: 70.51% Test: 69.09%\n",
            "Epoch: 63, Loss: 20.7081, Train: 76.16%, Valid: 70.14% Test: 68.86%\n",
            "Epoch: 64, Loss: 20.6857, Train: 76.50%, Valid: 71.04% Test: 69.97%\n",
            "Epoch: 65, Loss: 20.6432, Train: 76.55%, Valid: 70.94% Test: 69.62%\n",
            "Epoch: 66, Loss: 20.5886, Train: 76.30%, Valid: 70.63% Test: 69.44%\n",
            "Epoch: 67, Loss: 20.6249, Train: 76.43%, Valid: 70.78% Test: 69.64%\n",
            "Epoch: 68, Loss: 20.6155, Train: 76.42%, Valid: 70.15% Test: 68.26%\n",
            "Epoch: 69, Loss: 20.5777, Train: 76.66%, Valid: 70.72% Test: 69.45%\n",
            "Epoch: 70, Loss: 20.6474, Train: 76.58%, Valid: 70.74% Test: 69.47%\n",
            "Epoch: 71, Loss: 20.4664, Train: 76.65%, Valid: 70.84% Test: 69.81%\n",
            "Epoch: 72, Loss: 20.4300, Train: 76.69%, Valid: 70.66% Test: 69.49%\n",
            "Epoch: 73, Loss: 20.5217, Train: 76.58%, Valid: 70.53% Test: 69.24%\n",
            "Epoch: 74, Loss: 20.5422, Train: 76.47%, Valid: 70.37% Test: 68.93%\n",
            "Epoch: 75, Loss: 20.4030, Train: 76.80%, Valid: 70.83% Test: 69.60%\n",
            "Epoch: 76, Loss: 20.4686, Train: 76.83%, Valid: 71.04% Test: 69.78%\n",
            "Epoch: 77, Loss: 20.4240, Train: 76.68%, Valid: 70.72% Test: 69.29%\n",
            "Epoch: 78, Loss: 20.5110, Train: 76.79%, Valid: 70.95% Test: 69.88%\n",
            "Epoch: 79, Loss: 20.4356, Train: 76.82%, Valid: 70.57% Test: 68.80%\n",
            "Epoch: 80, Loss: 20.4827, Train: 76.66%, Valid: 71.03% Test: 70.27%\n",
            "Epoch: 81, Loss: 20.4658, Train: 76.68%, Valid: 71.04% Test: 70.08%\n",
            "Epoch: 82, Loss: 20.3923, Train: 76.93%, Valid: 70.76% Test: 69.23%\n",
            "Epoch: 83, Loss: 20.3733, Train: 76.80%, Valid: 70.73% Test: 69.46%\n",
            "Epoch: 84, Loss: 20.3119, Train: 76.96%, Valid: 70.82% Test: 69.48%\n",
            "Epoch: 85, Loss: 20.2967, Train: 76.90%, Valid: 71.02% Test: 69.79%\n",
            "Epoch: 86, Loss: 20.3326, Train: 77.01%, Valid: 70.77% Test: 69.76%\n",
            "Epoch: 87, Loss: 20.3883, Train: 77.00%, Valid: 70.71% Test: 69.73%\n",
            "Epoch: 88, Loss: 20.2982, Train: 76.87%, Valid: 70.79% Test: 69.48%\n",
            "Epoch: 89, Loss: 20.2916, Train: 77.05%, Valid: 71.04% Test: 69.89%\n",
            "Epoch: 90, Loss: 20.3065, Train: 76.86%, Valid: 70.84% Test: 70.03%\n",
            "Epoch: 91, Loss: 20.3026, Train: 77.18%, Valid: 71.17% Test: 70.35%\n",
            "Epoch: 92, Loss: 20.3406, Train: 76.94%, Valid: 70.60% Test: 69.34%\n",
            "Epoch: 93, Loss: 20.2275, Train: 77.14%, Valid: 70.86% Test: 69.39%\n",
            "Epoch: 94, Loss: 20.2385, Train: 77.06%, Valid: 71.00% Test: 70.13%\n",
            "Epoch: 95, Loss: 20.2154, Train: 77.19%, Valid: 70.39% Test: 68.90%\n",
            "Epoch: 96, Loss: 20.1745, Train: 77.14%, Valid: 71.07% Test: 69.67%\n",
            "Epoch: 97, Loss: 20.1777, Train: 77.16%, Valid: 71.13% Test: 70.22%\n",
            "Epoch: 98, Loss: 20.2195, Train: 77.16%, Valid: 70.57% Test: 69.48%\n",
            "Epoch: 99, Loss: 20.2544, Train: 77.16%, Valid: 70.82% Test: 69.21%\n",
            "Epoch: 100, Loss: 20.2239, Train: 77.18%, Valid: 70.49% Test: 69.16%\n",
            "Best model: Train: 77.18%, Valid: 71.17% Test: 70.35%\n"
          ],
          "name": "stdout"
        }
      ]
    },
    {
      "cell_type": "markdown",
      "metadata": {
        "id": "-OyqW-1pSMLW"
      },
      "source": [
        "## Full-batch Training"
      ]
    },
    {
      "cell_type": "code",
      "metadata": {
        "id": "mU5eAviTSFMO",
        "outputId": "b5f701ac-a55c-4349-8c08-465cbe23693e",
        "colab": {
          "base_uri": "https://localhost:8080/"
        }
      },
      "source": [
        "# Use the same parameters for a full-batch training\n",
        "args = {\n",
        "    'device': device,\n",
        "    'num_layers': 2,\n",
        "    'hidden_dim': 128,\n",
        "    'dropout': 0.5,\n",
        "    'lr': 0.01,\n",
        "    'epochs': 100,\n",
        "}\n",
        "\n",
        "all_model = SAGE(data.num_features, args['hidden_dim'],\n",
        "            dataset.num_classes, args['num_layers'],\n",
        "            args['dropout']).to(device)\n",
        "all_model.reset_parameters()\n",
        "\n",
        "optimizer = torch.optim.Adam(all_model.parameters(), lr=args['lr'])\n",
        "loss_fn = F.nll_loss\n",
        "\n",
        "best_all_model = None\n",
        "best_valid_acc = 0\n",
        "\n",
        "all_results = []\n",
        "\n",
        "for epoch in range(1, 1 + args[\"epochs\"]):\n",
        "    loss = train(all_model, data, train_loader, train_idx, optimizer, loss_fn, mode=\"all\")\n",
        "    result = test(all_model, data, all_loader, split_idx, evaluator, mode=\"all\")\n",
        "    all_results.append(result)\n",
        "    train_acc, valid_acc, test_acc = result\n",
        "    if valid_acc > best_valid_acc:\n",
        "        best_valid_acc = valid_acc\n",
        "        best_all_model = copy.deepcopy(all_model)\n",
        "    print(f'Epoch: {epoch:02d}, '\n",
        "          f'Loss: {loss:.4f}, '\n",
        "          f'Train: {100 * train_acc:.2f}%, '\n",
        "          f'Valid: {100 * valid_acc:.2f}% '\n",
        "          f'Test: {100 * test_acc:.2f}%')\n",
        "best_result = test(best_all_model, data, all_loader, split_idx, evaluator, mode=\"all\")\n",
        "train_acc, valid_acc, test_acc = best_result\n",
        "print(f'Best model: '\n",
        "      f'Train: {100 * train_acc:.2f}%, '\n",
        "      f'Valid: {100 * valid_acc:.2f}% '\n",
        "      f'Test: {100 * test_acc:.2f}%')"
      ],
      "execution_count": 10,
      "outputs": [
        {
          "output_type": "stream",
          "text": [
            "Epoch: 01, Loss: 3.8658, Train: 26.03%, Valid: 25.97% Test: 28.06%\n",
            "Epoch: 02, Loss: 2.5288, Train: 32.84%, Valid: 37.77% Test: 38.79%\n",
            "Epoch: 03, Loss: 2.1666, Train: 33.52%, Valid: 36.39% Test: 35.73%\n",
            "Epoch: 04, Loss: 1.9868, Train: 34.49%, Valid: 37.70% Test: 36.91%\n",
            "Epoch: 05, Loss: 1.8735, Train: 38.04%, Valid: 42.38% Test: 42.51%\n",
            "Epoch: 06, Loss: 1.7819, Train: 42.60%, Valid: 48.20% Test: 49.59%\n",
            "Epoch: 07, Loss: 1.7037, Train: 46.51%, Valid: 52.40% Test: 54.01%\n",
            "Epoch: 08, Loss: 1.6398, Train: 49.88%, Valid: 55.08% Test: 56.42%\n",
            "Epoch: 09, Loss: 1.5822, Train: 52.70%, Valid: 57.22% Test: 58.09%\n",
            "Epoch: 10, Loss: 1.5302, Train: 55.11%, Valid: 59.06% Test: 59.36%\n",
            "Epoch: 11, Loss: 1.4925, Train: 56.80%, Valid: 59.88% Test: 59.87%\n",
            "Epoch: 12, Loss: 1.4649, Train: 57.90%, Valid: 60.50% Test: 60.06%\n",
            "Epoch: 13, Loss: 1.4382, Train: 58.83%, Valid: 61.02% Test: 60.42%\n",
            "Epoch: 14, Loss: 1.4162, Train: 59.76%, Valid: 61.51% Test: 60.66%\n",
            "Epoch: 15, Loss: 1.3852, Train: 60.65%, Valid: 62.15% Test: 61.17%\n",
            "Epoch: 16, Loss: 1.3618, Train: 61.52%, Valid: 62.85% Test: 61.80%\n",
            "Epoch: 17, Loss: 1.3438, Train: 62.32%, Valid: 63.49% Test: 62.58%\n",
            "Epoch: 18, Loss: 1.3244, Train: 62.97%, Valid: 63.90% Test: 63.41%\n",
            "Epoch: 19, Loss: 1.3131, Train: 63.53%, Valid: 64.55% Test: 64.16%\n",
            "Epoch: 20, Loss: 1.3012, Train: 63.91%, Valid: 65.12% Test: 64.82%\n",
            "Epoch: 21, Loss: 1.2903, Train: 64.29%, Valid: 65.47% Test: 65.25%\n",
            "Epoch: 22, Loss: 1.2776, Train: 64.54%, Valid: 65.66% Test: 65.51%\n",
            "Epoch: 23, Loss: 1.2675, Train: 64.66%, Valid: 65.74% Test: 65.75%\n",
            "Epoch: 24, Loss: 1.2546, Train: 64.78%, Valid: 65.74% Test: 65.77%\n",
            "Epoch: 25, Loss: 1.2487, Train: 64.87%, Valid: 65.82% Test: 65.66%\n",
            "Epoch: 26, Loss: 1.2355, Train: 65.06%, Valid: 65.81% Test: 65.69%\n",
            "Epoch: 27, Loss: 1.2252, Train: 65.20%, Valid: 65.97% Test: 65.80%\n",
            "Epoch: 28, Loss: 1.2175, Train: 65.37%, Valid: 66.09% Test: 66.01%\n",
            "Epoch: 29, Loss: 1.2099, Train: 65.60%, Valid: 66.38% Test: 66.21%\n",
            "Epoch: 30, Loss: 1.2019, Train: 65.89%, Valid: 66.57% Test: 66.35%\n",
            "Epoch: 31, Loss: 1.1963, Train: 66.17%, Valid: 66.77% Test: 66.43%\n",
            "Epoch: 32, Loss: 1.1877, Train: 66.45%, Valid: 66.96% Test: 66.63%\n",
            "Epoch: 33, Loss: 1.1816, Train: 66.66%, Valid: 67.16% Test: 66.84%\n",
            "Epoch: 34, Loss: 1.1722, Train: 66.80%, Valid: 67.32% Test: 67.12%\n",
            "Epoch: 35, Loss: 1.1662, Train: 66.95%, Valid: 67.38% Test: 67.40%\n",
            "Epoch: 36, Loss: 1.1627, Train: 67.12%, Valid: 67.55% Test: 67.65%\n",
            "Epoch: 37, Loss: 1.1611, Train: 67.36%, Valid: 67.66% Test: 67.82%\n",
            "Epoch: 38, Loss: 1.1551, Train: 67.59%, Valid: 67.79% Test: 67.82%\n",
            "Epoch: 39, Loss: 1.1487, Train: 67.76%, Valid: 67.92% Test: 67.83%\n",
            "Epoch: 40, Loss: 1.1443, Train: 67.92%, Valid: 68.01% Test: 67.83%\n",
            "Epoch: 41, Loss: 1.1372, Train: 68.05%, Valid: 68.16% Test: 67.85%\n",
            "Epoch: 42, Loss: 1.1327, Train: 68.11%, Valid: 68.28% Test: 67.86%\n",
            "Epoch: 43, Loss: 1.1255, Train: 68.17%, Valid: 68.31% Test: 67.91%\n",
            "Epoch: 44, Loss: 1.1229, Train: 68.27%, Valid: 68.27% Test: 67.85%\n",
            "Epoch: 45, Loss: 1.1174, Train: 68.40%, Valid: 68.32% Test: 67.83%\n",
            "Epoch: 46, Loss: 1.1131, Train: 68.55%, Valid: 68.39% Test: 67.73%\n",
            "Epoch: 47, Loss: 1.1143, Train: 68.69%, Valid: 68.42% Test: 67.66%\n",
            "Epoch: 48, Loss: 1.1098, Train: 68.85%, Valid: 68.52% Test: 67.74%\n",
            "Epoch: 49, Loss: 1.1089, Train: 68.99%, Valid: 68.62% Test: 67.91%\n",
            "Epoch: 50, Loss: 1.1002, Train: 69.11%, Valid: 68.71% Test: 68.11%\n",
            "Epoch: 51, Loss: 1.0982, Train: 69.23%, Valid: 68.75% Test: 68.15%\n",
            "Epoch: 52, Loss: 1.0932, Train: 69.34%, Valid: 68.85% Test: 68.15%\n",
            "Epoch: 53, Loss: 1.0904, Train: 69.48%, Valid: 68.89% Test: 68.08%\n",
            "Epoch: 54, Loss: 1.0863, Train: 69.58%, Valid: 68.94% Test: 68.07%\n",
            "Epoch: 55, Loss: 1.0834, Train: 69.65%, Valid: 68.98% Test: 68.17%\n",
            "Epoch: 56, Loss: 1.0770, Train: 69.71%, Valid: 69.11% Test: 68.35%\n",
            "Epoch: 57, Loss: 1.0791, Train: 69.76%, Valid: 69.14% Test: 68.55%\n",
            "Epoch: 58, Loss: 1.0760, Train: 69.82%, Valid: 69.22% Test: 68.60%\n",
            "Epoch: 59, Loss: 1.0688, Train: 69.91%, Valid: 69.15% Test: 68.46%\n",
            "Epoch: 60, Loss: 1.0692, Train: 69.96%, Valid: 69.19% Test: 68.28%\n",
            "Epoch: 61, Loss: 1.0647, Train: 70.05%, Valid: 69.23% Test: 68.27%\n",
            "Epoch: 62, Loss: 1.0626, Train: 70.10%, Valid: 69.23% Test: 68.29%\n",
            "Epoch: 63, Loss: 1.0624, Train: 70.16%, Valid: 69.33% Test: 68.27%\n",
            "Epoch: 64, Loss: 1.0575, Train: 70.25%, Valid: 69.37% Test: 68.30%\n",
            "Epoch: 65, Loss: 1.0579, Train: 70.28%, Valid: 69.31% Test: 68.15%\n",
            "Epoch: 66, Loss: 1.0541, Train: 70.37%, Valid: 69.27% Test: 68.08%\n",
            "Epoch: 67, Loss: 1.0534, Train: 70.48%, Valid: 69.32% Test: 68.22%\n",
            "Epoch: 68, Loss: 1.0486, Train: 70.57%, Valid: 69.38% Test: 68.39%\n",
            "Epoch: 69, Loss: 1.0442, Train: 70.64%, Valid: 69.52% Test: 68.54%\n",
            "Epoch: 70, Loss: 1.0421, Train: 70.69%, Valid: 69.59% Test: 68.57%\n",
            "Epoch: 71, Loss: 1.0405, Train: 70.78%, Valid: 69.57% Test: 68.44%\n",
            "Epoch: 72, Loss: 1.0412, Train: 70.83%, Valid: 69.61% Test: 68.35%\n",
            "Epoch: 73, Loss: 1.0375, Train: 70.91%, Valid: 69.68% Test: 68.57%\n",
            "Epoch: 74, Loss: 1.0321, Train: 71.00%, Valid: 69.73% Test: 68.77%\n",
            "Epoch: 75, Loss: 1.0321, Train: 71.04%, Valid: 69.72% Test: 68.82%\n",
            "Epoch: 76, Loss: 1.0311, Train: 71.08%, Valid: 69.70% Test: 68.80%\n",
            "Epoch: 77, Loss: 1.0293, Train: 71.11%, Valid: 69.72% Test: 68.71%\n",
            "Epoch: 78, Loss: 1.0265, Train: 71.14%, Valid: 69.76% Test: 68.74%\n",
            "Epoch: 79, Loss: 1.0261, Train: 71.19%, Valid: 69.75% Test: 68.75%\n",
            "Epoch: 80, Loss: 1.0198, Train: 71.25%, Valid: 69.74% Test: 68.77%\n",
            "Epoch: 81, Loss: 1.0229, Train: 71.27%, Valid: 69.74% Test: 68.78%\n",
            "Epoch: 82, Loss: 1.0215, Train: 71.32%, Valid: 69.78% Test: 68.73%\n",
            "Epoch: 83, Loss: 1.0164, Train: 71.39%, Valid: 69.83% Test: 68.78%\n",
            "Epoch: 84, Loss: 1.0143, Train: 71.46%, Valid: 69.89% Test: 68.87%\n",
            "Epoch: 85, Loss: 1.0120, Train: 71.57%, Valid: 69.98% Test: 68.89%\n",
            "Epoch: 86, Loss: 1.0140, Train: 71.62%, Valid: 70.00% Test: 68.97%\n",
            "Epoch: 87, Loss: 1.0090, Train: 71.65%, Valid: 69.97% Test: 69.02%\n",
            "Epoch: 88, Loss: 1.0101, Train: 71.68%, Valid: 70.02% Test: 69.05%\n",
            "Epoch: 89, Loss: 1.0065, Train: 71.70%, Valid: 69.99% Test: 68.87%\n",
            "Epoch: 90, Loss: 1.0039, Train: 71.77%, Valid: 69.94% Test: 68.80%\n",
            "Epoch: 91, Loss: 1.0050, Train: 71.78%, Valid: 69.88% Test: 68.75%\n",
            "Epoch: 92, Loss: 1.0016, Train: 71.80%, Valid: 69.87% Test: 68.83%\n",
            "Epoch: 93, Loss: 1.0015, Train: 71.79%, Valid: 69.65% Test: 68.63%\n",
            "Epoch: 94, Loss: 1.0006, Train: 71.80%, Valid: 69.64% Test: 68.47%\n",
            "Epoch: 95, Loss: 0.9961, Train: 71.84%, Valid: 69.62% Test: 68.35%\n",
            "Epoch: 96, Loss: 0.9958, Train: 71.86%, Valid: 69.68% Test: 68.43%\n",
            "Epoch: 97, Loss: 0.9966, Train: 71.92%, Valid: 69.84% Test: 68.85%\n",
            "Epoch: 98, Loss: 0.9922, Train: 71.95%, Valid: 69.99% Test: 68.94%\n",
            "Epoch: 99, Loss: 0.9887, Train: 72.00%, Valid: 69.95% Test: 68.81%\n",
            "Epoch: 100, Loss: 0.9908, Train: 72.05%, Valid: 69.81% Test: 68.56%\n",
            "Best model: Train: 71.68%, Valid: 70.02% Test: 69.05%\n"
          ],
          "name": "stdout"
        }
      ]
    },
    {
      "cell_type": "markdown",
      "metadata": {
        "id": "NrECcOQQSZo1"
      },
      "source": [
        "## Visualization"
      ]
    },
    {
      "cell_type": "code",
      "metadata": {
        "id": "sh_qvSG1SV63",
        "outputId": "70843157-1eba-4cc4-adf8-82d859b882d8",
        "colab": {
          "base_uri": "https://localhost:8080/",
          "height": 458
        }
      },
      "source": [
        "import numpy as np\n",
        "from matplotlib import pyplot as plt\n",
        "\n",
        "batch_results = np.array(batch_results)\n",
        "all_results = np.array(all_results)\n",
        "\n",
        "x = np.arange(1, 101)\n",
        "\n",
        "plt.figure(figsize=(9, 7))\n",
        "\n",
        "plt.plot(x, batch_results[:, 1], label=\"Batch Validation\")\n",
        "plt.plot(x, batch_results[:, 2], label=\"Batch Test\")\n",
        "plt.plot(x, all_results[:, 1], label=\"All Validation\")\n",
        "plt.plot(x, all_results[:, 2], label=\"All Test\")\n",
        "plt.title('Model Accuracy')\n",
        "plt.ylabel('Accuracy')\n",
        "plt.xlabel('Epoch')\n",
        "plt.legend()\n",
        "plt.show()"
      ],
      "execution_count": 11,
      "outputs": [
        {
          "output_type": "display_data",
          "data": {
            "image/png": "[encoded data removed]",
            "text/plain": [
              "<Figure size 648x504 with 1 Axes>"
            ]
          },
          "metadata": {
            "tags": [],
            "needs_background": "light"
          }
        }
      ]
    },
    {
      "cell_type": "markdown",
      "metadata": {
        "id": "WFb2OAvOSn_O"
      },
      "source": [
        "# 2 Neighbor Sampling with Different Ratios\n",
        "\n",
        "Now we will implement a simplified version of Neighbor Sampling by using DeepSNAP and NetworkX, and train models with different neighborhood sampling ratios.\n",
        "\n",
        "To make the experiments faster, we will use the Cora graph here."
      ]
    },
    {
      "cell_type": "markdown",
      "metadata": {
        "id": "P9U0F7bnSz9u"
      },
      "source": [
        "## Setup"
      ]
    },
    {
      "cell_type": "code",
      "metadata": {
        "id": "PUF4on-fSxcq",
        "outputId": "f3ed768c-dcf8-4a16-f0c0-5e3db3f505eb",
        "colab": {
          "base_uri": "https://localhost:8080/"
        }
      },
      "source": [
        "import copy\n",
        "import torch\n",
        "import random\n",
        "import numpy as np\n",
        "import networkx as nx\n",
        "import torch.nn as nn\n",
        "import torch.nn.functional as F\n",
        "\n",
        "from torch_geometric.nn import SAGEConv\n",
        "from torch.utils.data import DataLoader\n",
        "from torch_geometric.datasets import Planetoid\n",
        "from torch.nn import Sequential, Linear, ReLU\n",
        "from deepsnap.dataset import GraphDataset\n",
        "from deepsnap.graph import Graph\n",
        "\n",
        "pyg_dataset = Planetoid('./tmp', \"Cora\")"
      ],
      "execution_count": 12,
      "outputs": [
        {
          "output_type": "stream",
          "text": [
            "Downloading https://github.com/kimiyoung/planetoid/raw/master/data/ind.cora.x\n",
            "Downloading https://github.com/kimiyoung/planetoid/raw/master/data/ind.cora.tx\n",
            "Downloading https://github.com/kimiyoung/planetoid/raw/master/data/ind.cora.allx\n",
            "Downloading https://github.com/kimiyoung/planetoid/raw/master/data/ind.cora.y\n",
            "Downloading https://github.com/kimiyoung/planetoid/raw/master/data/ind.cora.ty\n",
            "Downloading https://github.com/kimiyoung/planetoid/raw/master/data/ind.cora.ally\n",
            "Downloading https://github.com/kimiyoung/planetoid/raw/master/data/ind.cora.graph\n",
            "Downloading https://github.com/kimiyoung/planetoid/raw/master/data/ind.cora.test.index\n",
            "Processing...\n",
            "Done!\n"
          ],
          "name": "stdout"
        }
      ]
    },
    {
      "cell_type": "markdown",
      "metadata": {
        "id": "qw6k-KdFTEYw"
      },
      "source": [
        "## GNN Model"
      ]
    },
    {
      "cell_type": "code",
      "metadata": {
        "id": "PvUlNi2TS09i"
      },
      "source": [
        "class GNN(torch.nn.Module):\n",
        "    def __init__(self, input_dim, hidden_dim, output_dim, args):\n",
        "        super(GNN, self).__init__()\n",
        "        self.dropout = args['dropout']\n",
        "        self.num_layers = args['num_layers']\n",
        "\n",
        "        self.convs = nn.ModuleList()\n",
        "        self.bns = nn.ModuleList()\n",
        "\n",
        "        self.convs.append(SAGEConv(input_dim, hidden_dim))\n",
        "        self.bns.append(nn.BatchNorm1d(hidden_dim))\n",
        "\n",
        "        for l in range(self.num_layers - 2):\n",
        "            self.convs.append(SAGEConv(hidden_dim, hidden_dim))\n",
        "            self.bns.append(nn.BatchNorm1d(hidden_dim))\n",
        "        self.convs.append(SAGEConv(hidden_dim, hidden_dim))\n",
        "\n",
        "        self.post_mp = nn.Linear(hidden_dim, output_dim)\n",
        "\n",
        "    def forward(self, data, mode=\"batch\"):\n",
        "        if mode == \"batch\":\n",
        "            edge_indices, x = data\n",
        "            for i in range(len(self.convs) - 1):\n",
        "                edge_index = edge_indices[i]\n",
        "                x = self.convs[i](x, edge_index)\n",
        "                x = self.bns[i](x)\n",
        "                x = F.relu(x)\n",
        "                x = F.dropout(x, p=self.dropout, training=self.training)\n",
        "            x = self.convs[-1](x, edge_indices[len(self.convs) - 1])\n",
        "        else:\n",
        "            x, edge_index = data.node_feature, data.edge_index\n",
        "            for i in range(len(self.convs) - 1):\n",
        "                x = self.convs[i](x, edge_index)\n",
        "                x = self.bns[i](x)\n",
        "                x = F.relu(x)\n",
        "                x = F.dropout(x, p=self.dropout, training=self.training)\n",
        "            x = self.convs[-1](x, edge_index)\n",
        "        x = self.post_mp(x)\n",
        "        x = F.log_softmax(x, dim=1)\n",
        "        return x"
      ],
      "execution_count": 13,
      "outputs": []
    },
    {
      "cell_type": "markdown",
      "metadata": {
        "id": "Ulp1A3evcJ-I"
      },
      "source": [
        "## Neighbor Sampling\n",
        "\n",
        "Here we implement functions that will sample neighbors by using DeepSNAP and NetworkX.\n",
        "\n",
        "Notice that node classification task on Cora is a semi-supervised classification task, here we keep all the labeled training nodes (140 nodes) by setting the last ratio to 1."
      ]
    },
    {
      "cell_type": "code",
      "metadata": {
        "id": "LI4qHkE4cQOh"
      },
      "source": [
        "def sample_neighbors(nodes, G, ratio, all_nodes):\n",
        "    # This fuction takes a set of nodes, a NetworkX graph G and neighbor sampling ratio.\n",
        "    # It will return sampled neighbors (unioned with input nodes) and edges between \n",
        "    neighbors = set()\n",
        "    edges = []\n",
        "    for node in nodes:\n",
        "        neighbors_list = list(nx.neighbors(G, node))\n",
        "\n",
        "        # We only sample the (ratio * number of neighbors) neighbors\n",
        "        num = int(len(neighbors_list) * ratio)\n",
        "        if num > 0:\n",
        "            # Random shuffle the neighbors\n",
        "            random.shuffle(neighbors_list)\n",
        "            neighbors_list = neighbors_list[:num]\n",
        "            for neighbor in neighbors_list:\n",
        "                # Add neighbors\n",
        "                neighbors.add(neighbor)\n",
        "                edges.append((neighbor, node))\n",
        "    return neighbors, neighbors.union(all_nodes), edges\n",
        "\n",
        "def nodes_to_tensor(nodes):\n",
        "    # This function transform a set of nodes to node index tensor\n",
        "    node_label_index = torch.tensor(list(nodes), dtype=torch.long)\n",
        "    return node_label_index\n",
        "\n",
        "def edges_to_tensor(edges):\n",
        "    # This function transform a set of edges to edge index tensor\n",
        "    edge_index = torch.tensor(list(edges), dtype=torch.long)\n",
        "    edge_index = torch.cat([edge_index, torch.flip(edge_index, [1])], dim=0)\n",
        "    edge_index = edge_index.permute(1, 0)\n",
        "    return edge_index\n",
        "\n",
        "def relable(nodes, labeled_nodes, edges_list):\n",
        "    # Relable the nodes, labeled_nodes and edges_list\n",
        "    relabled_edges_list = []\n",
        "    sorted_nodes = sorted(nodes)\n",
        "    node_mapping = {node : i for i, node in enumerate(sorted_nodes)}\n",
        "    for orig_edges in edges_list:\n",
        "        relabeled_edges = []\n",
        "        for edge in orig_edges:\n",
        "            relabeled_edges.append((node_mapping[edge[0]], node_mapping[edge[1]]))\n",
        "        relabled_edges_list.append(relabeled_edges)\n",
        "    relabeled_labeled_nodes = [node_mapping[node] for node in labeled_nodes]\n",
        "    relabeled_nodes = [node_mapping[node] for node in nodes]\n",
        "    return relabled_edges_list, relabeled_nodes, relabeled_labeled_nodes\n",
        "\n",
        "def neighbor_sampling(graph, K=2, ratios=(0.1, 0.1, 0.1)):\n",
        "    # This function takes a DeepSNAP graph, K the number of GNN layers, and neighbor \n",
        "    # sampling ratios for each layer. This function returns relabeled node feature, \n",
        "    # edge indices and node_label_index\n",
        "\n",
        "    assert K + 1 == len(ratios)\n",
        "\n",
        "    labeled_nodes = graph.node_label_index.tolist()\n",
        "    random.shuffle(labeled_nodes)\n",
        "    num = int(len(labeled_nodes) * ratios[-1])\n",
        "    if num > 0:\n",
        "        labeled_nodes = labeled_nodes[:num]\n",
        "    nodes_list = [set(labeled_nodes)]\n",
        "    edges_list = []\n",
        "    all_nodes = labeled_nodes\n",
        "    for k in range(K):\n",
        "        # Get nodes and edges from the previous layer\n",
        "        nodes, all_nodes, edges = \\\n",
        "            sample_neighbors(nodes_list[-1], graph.G, ratios[len(ratios) - k - 2], all_nodes)\n",
        "        nodes_list.append(nodes)\n",
        "        edges_list.append(edges)\n",
        "    \n",
        "    # Reverse the lists\n",
        "    nodes_list.reverse()\n",
        "    edges_list.reverse()\n",
        "\n",
        "    relabled_edges_list, relabeled_all_nodes, relabeled_labeled_nodes = \\\n",
        "        relable(all_nodes, labeled_nodes, edges_list)\n",
        "\n",
        "    node_index = nodes_to_tensor(relabeled_all_nodes)\n",
        "    # All node features that will be used\n",
        "    node_feature = graph.node_feature[node_index]\n",
        "    edge_indices = [edges_to_tensor(edges) for edges in relabled_edges_list]\n",
        "    node_label_index = nodes_to_tensor(relabeled_labeled_nodes)\n",
        "    log = \"Sampled {} nodes, {} edges, {} labeled nodes\"\n",
        "    print(log.format(node_feature.shape[0], edge_indices[0].shape[1] // 2, node_label_index.shape[0]))\n",
        "    return node_feature, edge_indices, node_label_index"
      ],
      "execution_count": 14,
      "outputs": []
    },
    {
      "cell_type": "markdown",
      "metadata": {
        "id": "ooy6Hcf7TIhI"
      },
      "source": [
        "## Training and Testing"
      ]
    },
    {
      "cell_type": "code",
      "metadata": {
        "id": "iSmZhpzPTGPY"
      },
      "source": [
        "def train(train_graphs, val_graphs, args, model, optimizer, mode=\"batch\"):\n",
        "    best_val = 0\n",
        "    best_model = None\n",
        "    accs = []\n",
        "    graph_train = train_graphs[0]\n",
        "    graph_train.to(args['device'])\n",
        "    for epoch in range(1, 1 + args['epochs']):\n",
        "        model.train()\n",
        "        optimizer.zero_grad()\n",
        "        if mode == \"batch\":\n",
        "            node_feature, edge_indices, node_label_index = neighbor_sampling(graph_train, args['num_layers'], args['ratios'])\n",
        "            node_feature = node_feature.to(args['device'])\n",
        "            node_label_index = node_label_index.to(args['device'])\n",
        "            for i in range(len(edge_indices)):\n",
        "                edge_indices[i] = edge_indices[i].to(args['device'])\n",
        "            pred = model([edge_indices, node_feature])\n",
        "            pred = pred[node_label_index]\n",
        "            label = graph_train.node_label[node_label_index]\n",
        "        elif mode == \"community\":\n",
        "            graph = random.choice(train_graphs)\n",
        "            graph = graph.to(args['device'])\n",
        "            pred = model(graph, mode=\"all\")\n",
        "            pred = pred[graph.node_label_index]\n",
        "            label = graph.node_label[graph.node_label_index]\n",
        "        else:\n",
        "            pred = model(graph_train, mode=\"all\")\n",
        "            label = graph_train.node_label\n",
        "            pred = pred[graph_train.node_label_index]\n",
        "        loss = F.nll_loss(pred, label)\n",
        "        loss.backward()\n",
        "        optimizer.step()\n",
        "\n",
        "        train_acc, val_acc, test_acc = test(val_graphs, model)\n",
        "        accs.append((train_acc, val_acc, test_acc))\n",
        "        if val_acc > best_val:\n",
        "            best_val = val_acc\n",
        "            best_model = copy.deepcopy(model)\n",
        "        print(f'Epoch: {epoch:02d}, '\n",
        "              f'Loss: {loss:.4f}, '\n",
        "              f'Train: {100 * train_acc:.2f}%, '\n",
        "              f'Valid: {100 * val_acc:.2f}% '\n",
        "              f'Test: {100 * test_acc:.2f}%')\n",
        "    return best_model, accs\n",
        "\n",
        "def test(graphs, model):\n",
        "    model.eval()\n",
        "    accs = []\n",
        "    for graph in graphs:\n",
        "        graph = graph.to(args['device'])\n",
        "        pred = model(graph, mode=\"all\")\n",
        "        label = graph.node_label\n",
        "        pred = pred[graph.node_label_index].max(1)[1]\n",
        "        acc = pred.eq(label).sum().item()\n",
        "        acc /= len(label)\n",
        "        accs.append(acc)\n",
        "    return accs"
      ],
      "execution_count": 15,
      "outputs": []
    },
    {
      "cell_type": "code",
      "metadata": {
        "id": "HV7i0v0ETKzf"
      },
      "source": [
        "args = {\n",
        "    'device': torch.device('cuda' if torch.cuda.is_available() else 'cpu'),\n",
        "    'dropout': 0.5,\n",
        "    'num_layers': 2,\n",
        "    'hidden_size': 64,\n",
        "    'lr': 0.005,\n",
        "    'epochs': 50,\n",
        "    'ratios': (0.8, 0.8, 1),\n",
        "}"
      ],
      "execution_count": 16,
      "outputs": []
    },
    {
      "cell_type": "markdown",
      "metadata": {
        "id": "rLpRYKbnTQnj"
      },
      "source": [
        "## Full-Batch Training"
      ]
    },
    {
      "cell_type": "code",
      "metadata": {
        "id": "pMGGjbJBTOo1",
        "outputId": "f722c153-58a4-4e2d-9f53-83b8ac753ba6",
        "colab": {
          "base_uri": "https://localhost:8080/"
        }
      },
      "source": [
        "graphs_train, graphs_val, graphs_test = \\\n",
        "    GraphDataset.pyg_to_graphs(pyg_dataset, verbose=True, fixed_split=True)\n",
        "\n",
        "graph_train = graphs_train[0]\n",
        "graph_val = graphs_val[0]\n",
        "graph_test = graphs_test[0]\n",
        "\n",
        "model = GNN(graph_train.num_node_features, args['hidden_size'], graph_train.num_node_labels, args).to(args['device'])\n",
        "optimizer = torch.optim.Adam(model.parameters(), lr=args['lr'])\n",
        "graphs = [graph_train, graph_val, graph_test]\n",
        "all_best_model, all_accs = train(graphs, graphs, args, model, optimizer, mode=\"all\")\n",
        "train_acc, val_acc, test_acc = test([graph_train, graph_val, graph_test], all_best_model)\n",
        "print('Best model:',\n",
        "      f'Train: {100 * train_acc:.2f}%, '\n",
        "      f'Valid: {100 * val_acc:.2f}% '\n",
        "      f'Test: {100 * test_acc:.2f}%')"
      ],
      "execution_count": 17,
      "outputs": [
        {
          "output_type": "stream",
          "text": [
            "Index fields: train_mask ignored.\n",
            "Index fields: val_mask ignored.\n",
            "Index fields: test_mask ignored.\n",
            "Epoch: 01, Loss: 2.0296, Train: 66.43%, Valid: 28.60% Test: 31.00%\n",
            "Epoch: 02, Loss: 1.0734, Train: 91.43%, Valid: 49.60% Test: 52.00%\n",
            "Epoch: 03, Loss: 0.6032, Train: 97.14%, Valid: 55.20% Test: 56.20%\n",
            "Epoch: 04, Loss: 0.3066, Train: 100.00%, Valid: 58.80% Test: 60.00%\n",
            "Epoch: 05, Loss: 0.1411, Train: 100.00%, Valid: 62.80% Test: 62.40%\n",
            "Epoch: 06, Loss: 0.0727, Train: 100.00%, Valid: 64.80% Test: 64.40%\n",
            "Epoch: 07, Loss: 0.0320, Train: 100.00%, Valid: 66.20% Test: 67.10%\n",
            "Epoch: 08, Loss: 0.0271, Train: 100.00%, Valid: 68.20% Test: 68.80%\n",
            "Epoch: 09, Loss: 0.0119, Train: 100.00%, Valid: 68.40% Test: 70.50%\n",
            "Epoch: 10, Loss: 0.0132, Train: 100.00%, Valid: 69.80% Test: 70.80%\n",
            "Epoch: 11, Loss: 0.0080, Train: 100.00%, Valid: 70.20% Test: 71.50%\n",
            "Epoch: 12, Loss: 0.0052, Train: 100.00%, Valid: 70.60% Test: 72.30%\n",
            "Epoch: 13, Loss: 0.0045, Train: 100.00%, Valid: 71.00% Test: 72.50%\n",
            "Epoch: 14, Loss: 0.0030, Train: 100.00%, Valid: 71.20% Test: 73.10%\n",
            "Epoch: 15, Loss: 0.0016, Train: 100.00%, Valid: 71.40% Test: 73.10%\n",
            "Epoch: 16, Loss: 0.0022, Train: 100.00%, Valid: 72.00% Test: 73.20%\n",
            "Epoch: 17, Loss: 0.0010, Train: 100.00%, Valid: 72.40% Test: 73.10%\n",
            "Epoch: 18, Loss: 0.0022, Train: 100.00%, Valid: 72.40% Test: 73.30%\n",
            "Epoch: 19, Loss: 0.0006, Train: 100.00%, Valid: 72.40% Test: 73.60%\n",
            "Epoch: 20, Loss: 0.0015, Train: 100.00%, Valid: 72.40% Test: 73.60%\n",
            "Epoch: 21, Loss: 0.0009, Train: 100.00%, Valid: 72.40% Test: 73.80%\n",
            "Epoch: 22, Loss: 0.0002, Train: 100.00%, Valid: 72.20% Test: 73.80%\n",
            "Epoch: 23, Loss: 0.0001, Train: 100.00%, Valid: 72.40% Test: 73.70%\n",
            "Epoch: 24, Loss: 0.0003, Train: 100.00%, Valid: 72.80% Test: 74.00%\n",
            "Epoch: 25, Loss: 0.0002, Train: 100.00%, Valid: 72.80% Test: 74.20%\n",
            "Epoch: 26, Loss: 0.0003, Train: 100.00%, Valid: 72.60% Test: 74.30%\n",
            "Epoch: 27, Loss: 0.0001, Train: 100.00%, Valid: 72.80% Test: 74.30%\n",
            "Epoch: 28, Loss: 0.0018, Train: 100.00%, Valid: 72.80% Test: 74.40%\n",
            "Epoch: 29, Loss: 0.0003, Train: 100.00%, Valid: 72.80% Test: 74.40%\n",
            "Epoch: 30, Loss: 0.0000, Train: 100.00%, Valid: 73.00% Test: 74.40%\n",
            "Epoch: 31, Loss: 0.0034, Train: 100.00%, Valid: 73.20% Test: 74.40%\n",
            "Epoch: 32, Loss: 0.0002, Train: 100.00%, Valid: 73.20% Test: 74.40%\n",
            "Epoch: 33, Loss: 0.0002, Train: 100.00%, Valid: 73.00% Test: 74.50%\n",
            "Epoch: 34, Loss: 0.0001, Train: 100.00%, Valid: 73.00% Test: 74.60%\n",
            "Epoch: 35, Loss: 0.0001, Train: 100.00%, Valid: 73.20% Test: 74.80%\n",
            "Epoch: 36, Loss: 0.0001, Train: 100.00%, Valid: 73.20% Test: 74.80%\n",
            "Epoch: 37, Loss: 0.0001, Train: 100.00%, Valid: 73.00% Test: 74.90%\n",
            "Epoch: 38, Loss: 0.0001, Train: 100.00%, Valid: 73.20% Test: 74.80%\n",
            "Epoch: 39, Loss: 0.0006, Train: 100.00%, Valid: 73.20% Test: 74.80%\n",
            "Epoch: 40, Loss: 0.0001, Train: 100.00%, Valid: 73.40% Test: 74.80%\n",
            "Epoch: 41, Loss: 0.0001, Train: 100.00%, Valid: 73.40% Test: 74.90%\n",
            "Epoch: 42, Loss: 0.0001, Train: 100.00%, Valid: 73.40% Test: 74.90%\n",
            "Epoch: 43, Loss: 0.0001, Train: 100.00%, Valid: 73.40% Test: 75.10%\n",
            "Epoch: 44, Loss: 0.0001, Train: 100.00%, Valid: 73.40% Test: 75.10%\n",
            "Epoch: 45, Loss: 0.0000, Train: 100.00%, Valid: 73.40% Test: 75.00%\n",
            "Epoch: 46, Loss: 0.0001, Train: 100.00%, Valid: 73.40% Test: 74.90%\n",
            "Epoch: 47, Loss: 0.0000, Train: 100.00%, Valid: 73.40% Test: 74.90%\n",
            "Epoch: 48, Loss: 0.0000, Train: 100.00%, Valid: 73.40% Test: 74.80%\n",
            "Epoch: 49, Loss: 0.0004, Train: 100.00%, Valid: 73.40% Test: 74.80%\n",
            "Epoch: 50, Loss: 0.0000, Train: 100.00%, Valid: 73.40% Test: 74.80%\n",
            "Best model: Train: 100.00%, Valid: 73.40% Test: 74.80%\n"
          ],
          "name": "stdout"
        }
      ]
    },
    {
      "cell_type": "markdown",
      "metadata": {
        "id": "JWkGiwB6Thr4"
      },
      "source": [
        "## Sampling with Ratios 0.8"
      ]
    },
    {
      "cell_type": "code",
      "metadata": {
        "id": "yWusJ9u3Tfhv",
        "outputId": "e8a6b992-ea87-49da-ea3d-5d5ff87c4426",
        "colab": {
          "base_uri": "https://localhost:8080/"
        }
      },
      "source": [
        "args['ratios'] = (0.8, 0.8, 1)\n",
        "\n",
        "graphs_train, graphs_val, graphs_test = \\\n",
        "    GraphDataset.pyg_to_graphs(pyg_dataset, verbose=True, fixed_split=True)\n",
        "\n",
        "graph_train = graphs_train[0]\n",
        "graph_val = graphs_val[0]\n",
        "graph_test = graphs_test[0]\n",
        "\n",
        "model = GNN(graph_train.num_node_features, args['hidden_size'], graph_train.num_node_labels, args).to(args['device'])\n",
        "optimizer = torch.optim.Adam(model.parameters(), lr=args['lr'])\n",
        "graphs = [graph_train, graph_val, graph_test]\n",
        "batch_best_model, batch_accs = train(graphs, graphs, args, model, optimizer)\n",
        "train_acc, val_acc, test_acc = test([graph_train, graph_val, graph_test], batch_best_model)\n",
        "print('Best model:',\n",
        "      f'Train: {100 * train_acc:.2f}%, '\n",
        "      f'Valid: {100 * val_acc:.2f}% '\n",
        "      f'Test: {100 * test_acc:.2f}%')"
      ],
      "execution_count": 18,
      "outputs": [
        {
          "output_type": "stream",
          "text": [
            "Index fields: train_mask ignored.\n",
            "Index fields: val_mask ignored.\n",
            "Index fields: test_mask ignored.\n",
            "Sampled 1287 nodes, 1976 edges, 140 labeled nodes\n",
            "Epoch: 01, Loss: 1.9884, Train: 30.71%, Valid: 12.60% Test: 13.00%\n",
            "Sampled 1317 nodes, 1972 edges, 140 labeled nodes\n",
            "Epoch: 02, Loss: 1.6395, Train: 63.57%, Valid: 17.20% Test: 19.90%\n",
            "Sampled 1346 nodes, 2005 edges, 140 labeled nodes\n",
            "Epoch: 03, Loss: 1.3103, Train: 82.86%, Valid: 24.40% Test: 29.10%\n",
            "Sampled 1368 nodes, 2069 edges, 140 labeled nodes\n",
            "Epoch: 04, Loss: 1.0506, Train: 95.00%, Valid: 33.20% Test: 33.50%\n",
            "Sampled 1288 nodes, 1960 edges, 140 labeled nodes\n",
            "Epoch: 05, Loss: 0.8372, Train: 97.14%, Valid: 39.60% Test: 38.30%\n",
            "Sampled 1320 nodes, 1958 edges, 140 labeled nodes\n",
            "Epoch: 06, Loss: 0.5567, Train: 97.86%, Valid: 44.60% Test: 42.90%\n",
            "Sampled 1309 nodes, 1985 edges, 140 labeled nodes\n",
            "Epoch: 07, Loss: 0.4460, Train: 98.57%, Valid: 47.80% Test: 45.10%\n",
            "Sampled 1312 nodes, 1969 edges, 140 labeled nodes\n",
            "Epoch: 08, Loss: 0.3365, Train: 98.57%, Valid: 49.60% Test: 47.10%\n",
            "Sampled 1325 nodes, 2030 edges, 140 labeled nodes\n",
            "Epoch: 09, Loss: 0.2421, Train: 99.29%, Valid: 49.80% Test: 48.50%\n",
            "Sampled 1320 nodes, 1986 edges, 140 labeled nodes\n",
            "Epoch: 10, Loss: 0.1872, Train: 99.29%, Valid: 51.20% Test: 49.60%\n",
            "Sampled 1332 nodes, 1958 edges, 140 labeled nodes\n",
            "Epoch: 11, Loss: 0.1679, Train: 100.00%, Valid: 53.20% Test: 51.90%\n",
            "Sampled 1332 nodes, 1995 edges, 140 labeled nodes\n",
            "Epoch: 12, Loss: 0.1146, Train: 100.00%, Valid: 54.40% Test: 52.50%\n",
            "Sampled 1329 nodes, 2028 edges, 140 labeled nodes\n",
            "Epoch: 13, Loss: 0.1024, Train: 100.00%, Valid: 54.80% Test: 52.90%\n",
            "Sampled 1299 nodes, 1953 edges, 140 labeled nodes\n",
            "Epoch: 14, Loss: 0.1095, Train: 100.00%, Valid: 54.80% Test: 53.20%\n",
            "Sampled 1297 nodes, 1947 edges, 140 labeled nodes\n",
            "Epoch: 15, Loss: 0.0748, Train: 100.00%, Valid: 55.20% Test: 53.40%\n",
            "Sampled 1301 nodes, 1953 edges, 140 labeled nodes\n",
            "Epoch: 16, Loss: 0.0862, Train: 100.00%, Valid: 54.60% Test: 54.00%\n",
            "Sampled 1320 nodes, 2041 edges, 140 labeled nodes\n",
            "Epoch: 17, Loss: 0.0589, Train: 100.00%, Valid: 54.40% Test: 54.20%\n",
            "Sampled 1314 nodes, 1976 edges, 140 labeled nodes\n",
            "Epoch: 18, Loss: 0.0629, Train: 100.00%, Valid: 54.40% Test: 54.70%\n",
            "Sampled 1334 nodes, 2015 edges, 140 labeled nodes\n",
            "Epoch: 19, Loss: 0.0604, Train: 100.00%, Valid: 55.00% Test: 55.00%\n",
            "Sampled 1268 nodes, 1916 edges, 140 labeled nodes\n",
            "Epoch: 20, Loss: 0.0386, Train: 100.00%, Valid: 55.40% Test: 54.70%\n",
            "Sampled 1299 nodes, 1971 edges, 140 labeled nodes\n",
            "Epoch: 21, Loss: 0.0316, Train: 100.00%, Valid: 56.00% Test: 55.30%\n",
            "Sampled 1324 nodes, 1956 edges, 140 labeled nodes\n",
            "Epoch: 22, Loss: 0.0255, Train: 100.00%, Valid: 56.60% Test: 55.50%\n",
            "Sampled 1262 nodes, 1967 edges, 140 labeled nodes\n",
            "Epoch: 23, Loss: 0.0486, Train: 100.00%, Valid: 56.40% Test: 54.90%\n",
            "Sampled 1328 nodes, 2022 edges, 140 labeled nodes\n",
            "Epoch: 24, Loss: 0.0300, Train: 100.00%, Valid: 56.40% Test: 55.30%\n",
            "Sampled 1351 nodes, 2030 edges, 140 labeled nodes\n",
            "Epoch: 25, Loss: 0.0077, Train: 100.00%, Valid: 56.40% Test: 55.80%\n",
            "Sampled 1324 nodes, 1982 edges, 140 labeled nodes\n",
            "Epoch: 26, Loss: 0.0270, Train: 100.00%, Valid: 57.00% Test: 56.00%\n",
            "Sampled 1318 nodes, 1995 edges, 140 labeled nodes\n",
            "Epoch: 27, Loss: 0.0144, Train: 100.00%, Valid: 56.80% Test: 56.20%\n",
            "Sampled 1302 nodes, 1982 edges, 140 labeled nodes\n",
            "Epoch: 28, Loss: 0.0169, Train: 100.00%, Valid: 56.40% Test: 56.20%\n",
            "Sampled 1334 nodes, 1990 edges, 140 labeled nodes\n",
            "Epoch: 29, Loss: 0.0196, Train: 100.00%, Valid: 56.00% Test: 55.80%\n",
            "Sampled 1330 nodes, 1993 edges, 140 labeled nodes\n",
            "Epoch: 30, Loss: 0.0138, Train: 100.00%, Valid: 55.20% Test: 55.70%\n",
            "Sampled 1310 nodes, 1950 edges, 140 labeled nodes\n",
            "Epoch: 31, Loss: 0.0116, Train: 100.00%, Valid: 54.80% Test: 55.30%\n",
            "Sampled 1300 nodes, 1914 edges, 140 labeled nodes\n",
            "Epoch: 32, Loss: 0.0129, Train: 100.00%, Valid: 54.80% Test: 54.70%\n",
            "Sampled 1299 nodes, 1972 edges, 140 labeled nodes\n",
            "Epoch: 33, Loss: 0.0088, Train: 100.00%, Valid: 54.40% Test: 54.60%\n",
            "Sampled 1294 nodes, 1961 edges, 140 labeled nodes\n",
            "Epoch: 34, Loss: 0.0214, Train: 100.00%, Valid: 54.60% Test: 54.40%\n",
            "Sampled 1294 nodes, 1982 edges, 140 labeled nodes\n",
            "Epoch: 35, Loss: 0.0042, Train: 100.00%, Valid: 54.40% Test: 54.20%\n",
            "Sampled 1321 nodes, 1971 edges, 140 labeled nodes\n",
            "Epoch: 36, Loss: 0.0119, Train: 100.00%, Valid: 54.00% Test: 54.10%\n",
            "Sampled 1314 nodes, 1958 edges, 140 labeled nodes\n",
            "Epoch: 37, Loss: 0.0222, Train: 100.00%, Valid: 53.20% Test: 54.20%\n",
            "Sampled 1316 nodes, 2006 edges, 140 labeled nodes\n",
            "Epoch: 38, Loss: 0.0066, Train: 100.00%, Valid: 53.80% Test: 54.40%\n",
            "Sampled 1319 nodes, 1990 edges, 140 labeled nodes\n",
            "Epoch: 39, Loss: 0.0219, Train: 100.00%, Valid: 53.60% Test: 54.50%\n",
            "Sampled 1307 nodes, 1998 edges, 140 labeled nodes\n",
            "Epoch: 40, Loss: 0.0034, Train: 100.00%, Valid: 53.60% Test: 54.40%\n",
            "Sampled 1314 nodes, 1976 edges, 140 labeled nodes\n",
            "Epoch: 41, Loss: 0.0149, Train: 100.00%, Valid: 53.20% Test: 54.70%\n",
            "Sampled 1330 nodes, 2004 edges, 140 labeled nodes\n",
            "Epoch: 42, Loss: 0.0224, Train: 100.00%, Valid: 53.20% Test: 54.80%\n",
            "Sampled 1289 nodes, 1951 edges, 140 labeled nodes\n",
            "Epoch: 43, Loss: 0.0090, Train: 100.00%, Valid: 53.20% Test: 55.10%\n",
            "Sampled 1312 nodes, 1980 edges, 140 labeled nodes\n",
            "Epoch: 44, Loss: 0.0044, Train: 100.00%, Valid: 53.20% Test: 55.30%\n",
            "Sampled 1354 nodes, 2054 edges, 140 labeled nodes\n",
            "Epoch: 45, Loss: 0.0221, Train: 100.00%, Valid: 52.80% Test: 55.20%\n",
            "Sampled 1287 nodes, 1972 edges, 140 labeled nodes\n",
            "Epoch: 46, Loss: 0.0088, Train: 100.00%, Valid: 52.80% Test: 55.30%\n",
            "Sampled 1305 nodes, 1951 edges, 140 labeled nodes\n",
            "Epoch: 47, Loss: 0.0020, Train: 100.00%, Valid: 52.40% Test: 54.90%\n",
            "Sampled 1289 nodes, 1922 edges, 140 labeled nodes\n",
            "Epoch: 48, Loss: 0.0278, Train: 100.00%, Valid: 52.00% Test: 54.90%\n",
            "Sampled 1321 nodes, 2013 edges, 140 labeled nodes\n",
            "Epoch: 49, Loss: 0.0133, Train: 100.00%, Valid: 52.40% Test: 54.70%\n",
            "Sampled 1300 nodes, 1989 edges, 140 labeled nodes\n",
            "Epoch: 50, Loss: 0.0173, Train: 100.00%, Valid: 52.00% Test: 54.80%\n",
            "Best model: Train: 100.00%, Valid: 57.00% Test: 56.00%\n"
          ],
          "name": "stdout"
        }
      ]
    },
    {
      "cell_type": "markdown",
      "metadata": {
        "id": "w_FjkNHDT4c6"
      },
      "source": [
        "## Sampling with Ratios 0.3"
      ]
    },
    {
      "cell_type": "code",
      "metadata": {
        "id": "booJ6DASTjO4",
        "outputId": "1582d912-53ec-4db4-ef6b-b83b6000893b",
        "colab": {
          "base_uri": "https://localhost:8080/"
        }
      },
      "source": [
        "# Change the ratio to 0.3\n",
        "args['ratios'] = (0.3, 0.3, 1)\n",
        "\n",
        "graphs_train, graphs_val, graphs_test = \\\n",
        "    GraphDataset.pyg_to_graphs(pyg_dataset, verbose=True, fixed_split=True)\n",
        "\n",
        "graph_train = graphs_train[0]\n",
        "graph_val = graphs_val[0]\n",
        "graph_test = graphs_test[0]\n",
        "\n",
        "model = GNN(graph_train.num_node_features, args['hidden_size'], graph_train.num_node_labels, args).to(args['device'])\n",
        "optimizer = torch.optim.Adam(model.parameters(), lr=args['lr'])\n",
        "graphs = [graph_train, graph_val, graph_test]\n",
        "batch_best_model, batch_accs_1 = train(graphs, graphs, args, model, optimizer)\n",
        "train_acc, val_acc, test_acc = test([graph_train, graph_val, graph_test], batch_best_model)\n",
        "print('Best model:',\n",
        "      f'Train: {100 * train_acc:.2f}%, '\n",
        "      f'Valid: {100 * val_acc:.2f}% '\n",
        "      f'Test: {100 * test_acc:.2f}%')"
      ],
      "execution_count": 19,
      "outputs": [
        {
          "output_type": "stream",
          "text": [
            "Index fields: train_mask ignored.\n",
            "Index fields: val_mask ignored.\n",
            "Index fields: test_mask ignored.\n",
            "Sampled 447 nodes, 238 edges, 140 labeled nodes\n",
            "Epoch: 01, Loss: 1.9799, Train: 20.00%, Valid: 12.80% Test: 12.40%\n",
            "Sampled 424 nodes, 242 edges, 140 labeled nodes\n",
            "Epoch: 02, Loss: 1.9096, Train: 31.43%, Valid: 15.80% Test: 16.70%\n",
            "Sampled 337 nodes, 137 edges, 140 labeled nodes\n",
            "Epoch: 03, Loss: 1.8997, Train: 32.14%, Valid: 17.20% Test: 18.90%\n",
            "Sampled 401 nodes, 208 edges, 140 labeled nodes\n",
            "Epoch: 04, Loss: 1.8009, Train: 42.14%, Valid: 20.20% Test: 23.10%\n",
            "Sampled 438 nodes, 260 edges, 140 labeled nodes\n",
            "Epoch: 05, Loss: 1.8726, Train: 52.14%, Valid: 25.00% Test: 27.60%\n",
            "Sampled 426 nodes, 235 edges, 140 labeled nodes\n",
            "Epoch: 06, Loss: 1.8294, Train: 50.71%, Valid: 25.80% Test: 30.00%\n",
            "Sampled 379 nodes, 185 edges, 140 labeled nodes\n",
            "Epoch: 07, Loss: 1.7936, Train: 48.57%, Valid: 20.00% Test: 26.10%\n",
            "Sampled 389 nodes, 191 edges, 140 labeled nodes\n",
            "Epoch: 08, Loss: 1.6882, Train: 45.00%, Valid: 17.20% Test: 22.20%\n",
            "Sampled 470 nodes, 279 edges, 140 labeled nodes\n",
            "Epoch: 09, Loss: 1.7036, Train: 42.14%, Valid: 16.60% Test: 21.40%\n",
            "Sampled 419 nodes, 240 edges, 140 labeled nodes\n",
            "Epoch: 10, Loss: 1.7631, Train: 45.71%, Valid: 16.20% Test: 20.40%\n",
            "Sampled 421 nodes, 238 edges, 140 labeled nodes\n",
            "Epoch: 11, Loss: 1.7168, Train: 49.29%, Valid: 16.40% Test: 21.60%\n",
            "Sampled 388 nodes, 192 edges, 140 labeled nodes\n",
            "Epoch: 12, Loss: 1.6240, Train: 52.14%, Valid: 17.80% Test: 22.70%\n",
            "Sampled 421 nodes, 252 edges, 140 labeled nodes\n",
            "Epoch: 13, Loss: 1.6693, Train: 52.86%, Valid: 21.80% Test: 25.00%\n",
            "Sampled 445 nodes, 258 edges, 140 labeled nodes\n",
            "Epoch: 14, Loss: 1.6936, Train: 55.71%, Valid: 25.40% Test: 27.10%\n",
            "Sampled 373 nodes, 187 edges, 140 labeled nodes\n",
            "Epoch: 15, Loss: 1.6492, Train: 55.71%, Valid: 25.60% Test: 27.90%\n",
            "Sampled 440 nodes, 250 edges, 140 labeled nodes\n",
            "Epoch: 16, Loss: 1.5697, Train: 57.14%, Valid: 26.60% Test: 28.80%\n",
            "Sampled 427 nodes, 241 edges, 140 labeled nodes\n",
            "Epoch: 17, Loss: 1.6183, Train: 58.57%, Valid: 27.60% Test: 30.40%\n",
            "Sampled 409 nodes, 228 edges, 140 labeled nodes\n",
            "Epoch: 18, Loss: 1.6555, Train: 59.29%, Valid: 28.20% Test: 31.60%\n",
            "Sampled 390 nodes, 211 edges, 140 labeled nodes\n",
            "Epoch: 19, Loss: 1.5399, Train: 59.29%, Valid: 28.40% Test: 31.40%\n",
            "Sampled 386 nodes, 196 edges, 140 labeled nodes\n",
            "Epoch: 20, Loss: 1.5393, Train: 60.71%, Valid: 28.00% Test: 31.10%\n",
            "Sampled 414 nodes, 211 edges, 140 labeled nodes\n",
            "Epoch: 21, Loss: 1.6841, Train: 60.00%, Valid: 28.00% Test: 31.20%\n",
            "Sampled 408 nodes, 221 edges, 140 labeled nodes\n",
            "Epoch: 22, Loss: 1.5837, Train: 58.57%, Valid: 28.00% Test: 31.30%\n",
            "Sampled 374 nodes, 205 edges, 140 labeled nodes\n",
            "Epoch: 23, Loss: 1.5620, Train: 57.86%, Valid: 28.20% Test: 31.80%\n",
            "Sampled 415 nodes, 227 edges, 140 labeled nodes\n",
            "Epoch: 24, Loss: 1.5831, Train: 58.57%, Valid: 29.20% Test: 32.80%\n",
            "Sampled 397 nodes, 215 edges, 140 labeled nodes\n",
            "Epoch: 25, Loss: 1.4931, Train: 58.57%, Valid: 29.20% Test: 34.30%\n",
            "Sampled 388 nodes, 207 edges, 140 labeled nodes\n",
            "Epoch: 26, Loss: 1.7236, Train: 58.57%, Valid: 30.80% Test: 35.30%\n",
            "Sampled 405 nodes, 206 edges, 140 labeled nodes\n",
            "Epoch: 27, Loss: 1.5233, Train: 57.86%, Valid: 31.00% Test: 36.90%\n",
            "Sampled 382 nodes, 199 edges, 140 labeled nodes\n",
            "Epoch: 28, Loss: 1.5365, Train: 59.29%, Valid: 30.20% Test: 37.40%\n",
            "Sampled 400 nodes, 202 edges, 140 labeled nodes\n",
            "Epoch: 29, Loss: 1.4690, Train: 60.00%, Valid: 31.00% Test: 37.60%\n",
            "Sampled 406 nodes, 215 edges, 140 labeled nodes\n",
            "Epoch: 30, Loss: 1.5319, Train: 59.29%, Valid: 31.60% Test: 38.10%\n",
            "Sampled 419 nodes, 224 edges, 140 labeled nodes\n",
            "Epoch: 31, Loss: 1.6847, Train: 61.43%, Valid: 31.20% Test: 37.90%\n",
            "Sampled 416 nodes, 211 edges, 140 labeled nodes\n",
            "Epoch: 32, Loss: 1.6549, Train: 62.14%, Valid: 31.20% Test: 36.90%\n",
            "Sampled 423 nodes, 236 edges, 140 labeled nodes\n",
            "Epoch: 33, Loss: 1.5968, Train: 62.14%, Valid: 31.00% Test: 37.10%\n",
            "Sampled 420 nodes, 240 edges, 140 labeled nodes\n",
            "Epoch: 34, Loss: 1.5486, Train: 62.86%, Valid: 30.80% Test: 36.80%\n",
            "Sampled 393 nodes, 207 edges, 140 labeled nodes\n",
            "Epoch: 35, Loss: 1.5959, Train: 64.29%, Valid: 29.80% Test: 36.40%\n",
            "Sampled 374 nodes, 180 edges, 140 labeled nodes\n",
            "Epoch: 36, Loss: 1.5802, Train: 64.29%, Valid: 28.40% Test: 36.30%\n",
            "Sampled 401 nodes, 215 edges, 140 labeled nodes\n",
            "Epoch: 37, Loss: 1.4473, Train: 63.57%, Valid: 28.20% Test: 35.60%\n",
            "Sampled 372 nodes, 189 edges, 140 labeled nodes\n",
            "Epoch: 38, Loss: 1.4901, Train: 63.57%, Valid: 28.60% Test: 35.10%\n",
            "Sampled 449 nodes, 265 edges, 140 labeled nodes\n",
            "Epoch: 39, Loss: 1.4805, Train: 61.43%, Valid: 30.00% Test: 35.60%\n",
            "Sampled 426 nodes, 236 edges, 140 labeled nodes\n",
            "Epoch: 40, Loss: 1.4772, Train: 61.43%, Valid: 31.60% Test: 36.20%\n",
            "Sampled 426 nodes, 229 edges, 140 labeled nodes\n",
            "Epoch: 41, Loss: 1.6259, Train: 61.43%, Valid: 32.00% Test: 37.00%\n",
            "Sampled 419 nodes, 226 edges, 140 labeled nodes\n",
            "Epoch: 42, Loss: 1.4395, Train: 61.43%, Valid: 31.60% Test: 37.50%\n",
            "Sampled 383 nodes, 198 edges, 140 labeled nodes\n",
            "Epoch: 43, Loss: 1.6849, Train: 63.57%, Valid: 32.20% Test: 38.10%\n",
            "Sampled 440 nodes, 261 edges, 140 labeled nodes\n",
            "Epoch: 44, Loss: 1.5373, Train: 63.57%, Valid: 33.00% Test: 39.20%\n",
            "Sampled 364 nodes, 170 edges, 140 labeled nodes\n",
            "Epoch: 45, Loss: 1.5645, Train: 63.57%, Valid: 33.60% Test: 39.60%\n",
            "Sampled 422 nodes, 235 edges, 140 labeled nodes\n",
            "Epoch: 46, Loss: 1.4986, Train: 63.57%, Valid: 34.20% Test: 39.40%\n",
            "Sampled 416 nodes, 212 edges, 140 labeled nodes\n",
            "Epoch: 47, Loss: 1.5827, Train: 62.86%, Valid: 35.40% Test: 39.90%\n",
            "Sampled 358 nodes, 143 edges, 140 labeled nodes\n",
            "Epoch: 48, Loss: 1.6337, Train: 62.86%, Valid: 35.80% Test: 40.60%\n",
            "Sampled 365 nodes, 163 edges, 140 labeled nodes\n",
            "Epoch: 49, Loss: 1.6646, Train: 62.14%, Valid: 36.20% Test: 40.70%\n",
            "Sampled 382 nodes, 185 edges, 140 labeled nodes\n",
            "Epoch: 50, Loss: 1.5076, Train: 61.43%, Valid: 35.60% Test: 41.10%\n",
            "Best model: Train: 62.14%, Valid: 36.20% Test: 40.70%\n"
          ],
          "name": "stdout"
        }
      ]
    },
    {
      "cell_type": "markdown",
      "metadata": {
        "id": "EePAvNlGUM2K"
      },
      "source": [
        "## Visualization"
      ]
    },
    {
      "cell_type": "code",
      "metadata": {
        "id": "7etNAkXAT55d",
        "outputId": "7bc1821b-6b64-480d-be34-06723fe18cd4",
        "colab": {
          "base_uri": "https://localhost:8080/",
          "height": 458
        }
      },
      "source": [
        "import numpy as np\n",
        "from matplotlib import pyplot as plt\n",
        "\n",
        "batch_results = np.array(batch_accs)\n",
        "batch_results_1 = np.array(batch_accs_1)\n",
        "all_results = np.array(all_accs)\n",
        "\n",
        "x = np.arange(1, 51)\n",
        "\n",
        "plt.figure(figsize=(9, 7))\n",
        "\n",
        "plt.plot(x, batch_results[:, 0], label=\"Batch 0.8 Train\")\n",
        "plt.plot(x, batch_results[:, 1], label=\"Batch 0.8 Validation\")\n",
        "plt.plot(x, batch_results[:, 2], label=\"Batch 0.8 Test\")\n",
        "plt.plot(x, batch_results_1[:, 0], label=\"Batch 0.3 Train\")\n",
        "plt.plot(x, batch_results_1[:, 1], label=\"Batch 0.3 Validation\")\n",
        "plt.plot(x, batch_results_1[:, 2], label=\"Batch 0.3 Test\")\n",
        "plt.plot(x, all_results[:, 0], label=\"All Train\")\n",
        "plt.plot(x, all_results[:, 1], label=\"All Validation\")\n",
        "plt.plot(x, all_results[:, 2], label=\"All Test\")\n",
        "plt.title('Model Accuracy')\n",
        "plt.ylabel('Accuracy')\n",
        "plt.xlabel('Epoch')\n",
        "plt.legend()\n",
        "plt.show()"
      ],
      "execution_count": 20,
      "outputs": [
        {
          "output_type": "display_data",
          "data": {
            "image/png": "[encoded data removed]",
            "text/plain": [
              "<Figure size 648x504 with 1 Axes>"
            ]
          },
          "metadata": {
            "tags": [],
            "needs_background": "light"
          }
        }
      ]
    },
    {
      "cell_type": "markdown",
      "metadata": {
        "id": "bkA7-0groq7q"
      },
      "source": [
        "Here all accuracies are evaluated on the full-batch mode."
      ]
    },
    {
      "cell_type": "markdown",
      "metadata": {
        "id": "Iee0U8KGURc8"
      },
      "source": [
        "# 3 Cluster Sampling\n",
        "\n",
        "Instead of the neighbor sampling, we can use another approach, subgraph (cluster) sampling, to scale up GNN. This approach is proposed in Cluster-GCN ([Chiang et al. (2019)](https://arxiv.org/abs/1905.07953)).\n",
        "\n",
        "In this section, we will implement vanilla Cluster-GCN and experiment with 3 different community partition algorithms.\n",
        "\n",
        "Notice that this section requires you have run the `Setup`, `GNN Model` and `Training and Testing` cells of the last section."
      ]
    },
    {
      "cell_type": "markdown",
      "metadata": {
        "id": "_BXjP79gUYir"
      },
      "source": [
        "## Setup"
      ]
    },
    {
      "cell_type": "code",
      "metadata": {
        "id": "UGQ_VKp8UOEm"
      },
      "source": [
        "import copy\n",
        "import torch\n",
        "import random\n",
        "import numpy as np\n",
        "import networkx as nx\n",
        "import torch.nn as nn\n",
        "import torch.nn.functional as F\n",
        "import community as community_louvain\n",
        "\n",
        "from torch_geometric.nn import SAGEConv\n",
        "from torch.utils.data import DataLoader\n",
        "from torch_geometric.datasets import Planetoid\n",
        "from torch.nn import Sequential, Linear, ReLU\n",
        "from deepsnap.dataset import GraphDataset\n",
        "from deepsnap.graph import Graph\n",
        "\n",
        "pyg_dataset = Planetoid('./tmp', \"Cora\")"
      ],
      "execution_count": 21,
      "outputs": []
    },
    {
      "cell_type": "code",
      "metadata": {
        "id": "bzMatyCSUaB6"
      },
      "source": [
        "args = {\n",
        "    'device': torch.device('cuda' if torch.cuda.is_available() else 'cpu'),\n",
        "    'dropout': 0.5,\n",
        "    'num_layers': 2,\n",
        "    'hidden_size': 64,\n",
        "    'lr': 0.005,\n",
        "    'epochs': 150,\n",
        "}"
      ],
      "execution_count": 22,
      "outputs": []
    },
    {
      "cell_type": "markdown",
      "metadata": {
        "id": "ekV-sokSUeLc"
      },
      "source": [
        "## Partition the Graph into Clusters\n",
        "\n",
        "Here we use following three community detection / partition algorithms to partition the graph into different clusters:\n",
        "* [Kernighan–Lin algorithm (bisection)](https://networkx.org/documentation/stable/reference/algorithms/generated/networkx.algorithms.community.kernighan_lin.kernighan_lin_bisection.html)\n",
        "* [Clauset-Newman-Moore greedy modularity maximization](https://networkx.org/documentation/stable/reference/algorithms/generated/networkx.algorithms.community.modularity_max.greedy_modularity_communities.html#networkx.algorithms.community.modularity_max.greedy_modularity_communities)\n",
        "* [Louvain algorithm](https://python-louvain.readthedocs.io/en/latest/api.html)\n",
        "\n",
        "\n",
        "To make the training more stable, we discard the cluster that has less than 10 nodes.\n",
        "\n",
        "Let's first define these algorithms as DeepSNAP transformation on a graph."
      ]
    },
    {
      "cell_type": "code",
      "metadata": {
        "id": "N8XeT005UcKh"
      },
      "source": [
        "def preprocess(G, node_label_index, method=\"louvain\"):\n",
        "    graphs = []\n",
        "    labeled_nodes = set(node_label_index.tolist())\n",
        "    if method == \"louvain\":\n",
        "        community_mapping = community_louvain.best_partition(G, resolution=10)\n",
        "        communities = {}\n",
        "        for node in community_mapping:\n",
        "            comm = community_mapping[node]\n",
        "            if comm in communities:\n",
        "                communities[comm].add(node)\n",
        "            else:\n",
        "                communities[comm] = set([node])\n",
        "        communities = communities.values()\n",
        "    elif method == \"bisection\":\n",
        "        communities = nx.algorithms.community.kernighan_lin_bisection(G)\n",
        "    elif method == \"greedy\":\n",
        "        communities = nx.algorithms.community.greedy_modularity_communities(G)\n",
        "\n",
        "    for community in communities:\n",
        "        nodes = set(community)\n",
        "        subgraph = G.subgraph(nodes)\n",
        "        # Make sure each subgraph has more than 10 nodes\n",
        "        if subgraph.number_of_nodes() > 10:\n",
        "            node_mapping = {node : i for i, node in enumerate(subgraph.nodes())}\n",
        "            subgraph = nx.relabel_nodes(subgraph, node_mapping)\n",
        "            # Get the id of the training set labeled node in the new graph\n",
        "            train_label_index = []\n",
        "            for node in labeled_nodes:\n",
        "                if node in node_mapping:\n",
        "                    # Append relabeled labeled node index\n",
        "                    train_label_index.append(node_mapping[node])\n",
        "\n",
        "            # Make sure the subgraph contains at least one training set labeled node\n",
        "            if len(train_label_index) > 0:\n",
        "                dg = Graph(subgraph)\n",
        "                # Update node_label_index\n",
        "                dg.node_label_index = torch.tensor(train_label_index, dtype=torch.long)\n",
        "                graphs.append(dg)\n",
        "    return graphs"
      ],
      "execution_count": 23,
      "outputs": []
    },
    {
      "cell_type": "markdown",
      "metadata": {
        "id": "7CYEamCAU-TJ"
      },
      "source": [
        "## Louvain Preprocess"
      ]
    },
    {
      "cell_type": "code",
      "metadata": {
        "id": "-TrC6ybWU7eO",
        "outputId": "0bd03c4e-3079-4888-fa68-0b77c82c2bc4",
        "colab": {
          "base_uri": "https://localhost:8080/"
        }
      },
      "source": [
        "graphs_train, graphs_val, graphs_test = \\\n",
        "    GraphDataset.pyg_to_graphs(pyg_dataset, verbose=True, fixed_split=True)\n",
        "\n",
        "graph_train = graphs_train[0]\n",
        "graph_val = graphs_val[0]\n",
        "graph_test = graphs_test[0]\n",
        "graphs = preprocess(graph_train.G, graph_train.node_label_index, method=\"louvain\")\n",
        "print(\"Partition the graph in to {} communities\".format(len(graphs)))\n",
        "avg_num_nodes = 0\n",
        "avg_num_edges = 0\n",
        "for graph in graphs:\n",
        "    avg_num_nodes += graph.num_nodes\n",
        "    avg_num_edges += graph.num_edges\n",
        "avg_num_nodes = int(avg_num_nodes / len(graphs))\n",
        "avg_num_edges = int(avg_num_edges / len(graphs))\n",
        "print(\"Each community has {} nodes in average\".format(avg_num_nodes))\n",
        "print(\"Each community has {} edges in average\".format(avg_num_edges))"
      ],
      "execution_count": 24,
      "outputs": [
        {
          "output_type": "stream",
          "text": [
            "Index fields: train_mask ignored.\n",
            "Index fields: val_mask ignored.\n",
            "Index fields: test_mask ignored.\n",
            "Partition the graph in to 6 communities\n",
            "Each community has 414 nodes in average\n",
            "Each community has 819 edges in average\n"
          ],
          "name": "stdout"
        }
      ]
    },
    {
      "cell_type": "markdown",
      "metadata": {
        "id": "O03uXIuGVIgJ"
      },
      "source": [
        "## Louvain Training"
      ]
    },
    {
      "cell_type": "code",
      "metadata": {
        "id": "iSbGf5ADVFQq",
        "outputId": "1385e716-7c41-45d1-b4da-9500622d552d",
        "colab": {
          "base_uri": "https://localhost:8080/"
        }
      },
      "source": [
        "model = GNN(graph_train.num_node_features, args['hidden_size'], graph_train.num_node_labels, args).to(args['device'])\n",
        "optimizer = torch.optim.Adam(model.parameters(), lr=args['lr'])\n",
        "louvain_best_model, louvain_accs = train(graphs, [graph_train, graph_val, graph_test], args, model, optimizer, mode=\"community\")\n",
        "train_acc, val_acc, test_acc = test([graph_train, graph_val, graph_test], louvain_best_model)\n",
        "print('Best model:',\n",
        "      f'Train: {100 * train_acc:.2f}%, '\n",
        "      f'Valid: {100 * val_acc:.2f}% '\n",
        "      f'Test: {100 * test_acc:.2f}%')"
      ],
      "execution_count": 25,
      "outputs": [
        {
          "output_type": "stream",
          "text": [
            "Epoch: 01, Loss: 2.3405, Train: 12.14%, Valid: 15.00% Test: 12.40%\n",
            "Epoch: 02, Loss: 2.0150, Train: 32.14%, Valid: 21.60% Test: 18.70%\n",
            "Epoch: 03, Loss: 2.0600, Train: 40.00%, Valid: 20.40% Test: 20.70%\n",
            "Epoch: 04, Loss: 1.1247, Train: 51.43%, Valid: 27.00% Test: 26.80%\n",
            "Epoch: 05, Loss: 2.4934, Train: 54.29%, Valid: 33.60% Test: 34.20%\n",
            "Epoch: 06, Loss: 0.7153, Train: 59.29%, Valid: 39.40% Test: 39.30%\n",
            "Epoch: 07, Loss: 0.0596, Train: 68.57%, Valid: 41.40% Test: 42.60%\n",
            "Epoch: 08, Loss: 0.3209, Train: 70.00%, Valid: 39.20% Test: 41.30%\n",
            "Epoch: 09, Loss: 0.1807, Train: 72.14%, Valid: 37.20% Test: 38.30%\n",
            "Epoch: 10, Loss: 0.0407, Train: 72.86%, Valid: 32.20% Test: 33.70%\n",
            "Epoch: 11, Loss: 0.0361, Train: 75.00%, Valid: 30.80% Test: 31.80%\n",
            "Epoch: 12, Loss: 0.1392, Train: 75.71%, Valid: 32.20% Test: 32.20%\n",
            "Epoch: 13, Loss: 3.5642, Train: 80.71%, Valid: 32.80% Test: 33.10%\n",
            "Epoch: 14, Loss: 0.0185, Train: 82.86%, Valid: 37.00% Test: 36.60%\n",
            "Epoch: 15, Loss: 1.0461, Train: 87.14%, Valid: 39.80% Test: 39.00%\n",
            "Epoch: 16, Loss: 0.9818, Train: 87.86%, Valid: 41.80% Test: 42.00%\n",
            "Epoch: 17, Loss: 0.9701, Train: 87.86%, Valid: 44.20% Test: 43.40%\n",
            "Epoch: 18, Loss: 0.6385, Train: 88.57%, Valid: 42.80% Test: 44.00%\n",
            "Epoch: 19, Loss: 0.3209, Train: 88.57%, Valid: 43.20% Test: 44.60%\n",
            "Epoch: 20, Loss: 0.3216, Train: 88.57%, Valid: 43.40% Test: 43.00%\n",
            "Epoch: 21, Loss: 0.1247, Train: 88.57%, Valid: 43.80% Test: 43.20%\n",
            "Epoch: 22, Loss: 4.4566, Train: 88.57%, Valid: 42.20% Test: 42.40%\n",
            "Epoch: 23, Loss: 0.0018, Train: 87.86%, Valid: 42.00% Test: 41.30%\n",
            "Epoch: 24, Loss: 0.3540, Train: 87.14%, Valid: 40.80% Test: 39.30%\n",
            "Epoch: 25, Loss: 1.4601, Train: 87.86%, Valid: 41.00% Test: 39.40%\n",
            "Epoch: 26, Loss: 0.3423, Train: 89.29%, Valid: 41.00% Test: 40.10%\n",
            "Epoch: 27, Loss: 0.2276, Train: 89.29%, Valid: 43.20% Test: 41.30%\n",
            "Epoch: 28, Loss: 0.2615, Train: 89.29%, Valid: 42.80% Test: 41.30%\n",
            "Epoch: 29, Loss: 0.2269, Train: 90.00%, Valid: 43.80% Test: 42.60%\n",
            "Epoch: 30, Loss: 0.4259, Train: 90.71%, Valid: 42.60% Test: 43.00%\n",
            "Epoch: 31, Loss: 0.0700, Train: 92.14%, Valid: 41.60% Test: 42.00%\n",
            "Epoch: 32, Loss: 0.2410, Train: 91.43%, Valid: 40.20% Test: 39.50%\n",
            "Epoch: 33, Loss: 0.1777, Train: 91.43%, Valid: 37.80% Test: 38.80%\n",
            "Epoch: 34, Loss: 0.0901, Train: 92.86%, Valid: 36.00% Test: 37.60%\n",
            "Epoch: 35, Loss: 0.1324, Train: 92.86%, Valid: 36.00% Test: 37.60%\n",
            "Epoch: 36, Loss: 0.1174, Train: 92.86%, Valid: 35.80% Test: 37.90%\n",
            "Epoch: 37, Loss: 0.1151, Train: 92.86%, Valid: 36.00% Test: 38.70%\n",
            "Epoch: 38, Loss: 0.0138, Train: 92.86%, Valid: 35.40% Test: 38.20%\n",
            "Epoch: 39, Loss: 0.0865, Train: 92.86%, Valid: 35.60% Test: 38.90%\n",
            "Epoch: 40, Loss: 0.1202, Train: 93.57%, Valid: 34.40% Test: 36.60%\n",
            "Epoch: 41, Loss: 0.0448, Train: 93.57%, Valid: 34.20% Test: 37.00%\n",
            "Epoch: 42, Loss: 0.0671, Train: 93.57%, Valid: 35.80% Test: 38.40%\n",
            "Epoch: 43, Loss: 0.0000, Train: 93.57%, Valid: 36.60% Test: 38.70%\n",
            "Epoch: 44, Loss: 0.0000, Train: 94.29%, Valid: 37.40% Test: 38.60%\n",
            "Epoch: 45, Loss: 0.0384, Train: 93.57%, Valid: 38.80% Test: 40.40%\n",
            "Epoch: 46, Loss: 0.0449, Train: 92.86%, Valid: 39.00% Test: 40.80%\n",
            "Epoch: 47, Loss: 0.0077, Train: 94.29%, Valid: 36.20% Test: 37.40%\n",
            "Epoch: 48, Loss: 0.0000, Train: 94.29%, Valid: 36.60% Test: 37.40%\n",
            "Epoch: 49, Loss: 0.0003, Train: 93.57%, Valid: 37.20% Test: 38.50%\n",
            "Epoch: 50, Loss: 0.0366, Train: 92.86%, Valid: 38.00% Test: 39.00%\n",
            "Epoch: 51, Loss: 0.0489, Train: 92.86%, Valid: 39.00% Test: 40.30%\n",
            "Epoch: 52, Loss: 0.0000, Train: 92.86%, Valid: 39.00% Test: 40.10%\n",
            "Epoch: 53, Loss: 0.0003, Train: 92.86%, Valid: 38.00% Test: 40.60%\n",
            "Epoch: 54, Loss: 0.0402, Train: 92.86%, Valid: 39.00% Test: 41.00%\n",
            "Epoch: 55, Loss: 0.0222, Train: 92.86%, Valid: 39.60% Test: 41.80%\n",
            "Epoch: 56, Loss: 0.0096, Train: 92.14%, Valid: 40.20% Test: 42.90%\n",
            "Epoch: 57, Loss: 0.0000, Train: 92.14%, Valid: 40.60% Test: 43.50%\n",
            "Epoch: 58, Loss: 0.0168, Train: 92.14%, Valid: 40.40% Test: 43.70%\n",
            "Epoch: 59, Loss: 0.1357, Train: 92.86%, Valid: 38.20% Test: 39.70%\n",
            "Epoch: 60, Loss: 0.0000, Train: 92.86%, Valid: 38.00% Test: 39.50%\n",
            "Epoch: 61, Loss: 0.0000, Train: 92.86%, Valid: 38.00% Test: 39.80%\n",
            "Epoch: 62, Loss: 0.0568, Train: 92.86%, Valid: 33.40% Test: 35.60%\n",
            "Epoch: 63, Loss: 0.0000, Train: 92.86%, Valid: 33.60% Test: 36.40%\n",
            "Epoch: 64, Loss: 0.0278, Train: 92.86%, Valid: 34.60% Test: 36.50%\n",
            "Epoch: 65, Loss: 0.0000, Train: 92.86%, Valid: 34.60% Test: 37.50%\n",
            "Epoch: 66, Loss: 0.0042, Train: 92.86%, Valid: 37.00% Test: 38.30%\n",
            "Epoch: 67, Loss: 0.0086, Train: 92.86%, Valid: 36.80% Test: 38.80%\n",
            "Epoch: 68, Loss: 0.0196, Train: 92.86%, Valid: 37.60% Test: 39.60%\n",
            "Epoch: 69, Loss: 0.0010, Train: 90.71%, Valid: 37.20% Test: 40.00%\n",
            "Epoch: 70, Loss: 0.0050, Train: 90.71%, Valid: 38.40% Test: 40.80%\n",
            "Epoch: 71, Loss: 0.0264, Train: 90.71%, Valid: 39.40% Test: 41.70%\n",
            "Epoch: 72, Loss: 0.0015, Train: 92.86%, Valid: 34.80% Test: 37.70%\n",
            "Epoch: 73, Loss: 0.0186, Train: 93.57%, Valid: 30.80% Test: 34.10%\n",
            "Epoch: 74, Loss: 0.0000, Train: 93.57%, Valid: 30.40% Test: 34.90%\n",
            "Epoch: 75, Loss: 0.0029, Train: 93.57%, Valid: 27.60% Test: 30.40%\n",
            "Epoch: 76, Loss: 0.0101, Train: 93.57%, Valid: 28.60% Test: 32.10%\n",
            "Epoch: 77, Loss: 0.0510, Train: 92.14%, Valid: 31.00% Test: 34.20%\n",
            "Epoch: 78, Loss: 0.0094, Train: 92.14%, Valid: 32.60% Test: 35.70%\n",
            "Epoch: 79, Loss: 0.0099, Train: 92.14%, Valid: 33.40% Test: 36.60%\n",
            "Epoch: 80, Loss: 0.0000, Train: 92.14%, Valid: 33.40% Test: 37.00%\n",
            "Epoch: 81, Loss: 0.0119, Train: 91.43%, Valid: 35.00% Test: 37.80%\n",
            "Epoch: 82, Loss: 0.0007, Train: 92.86%, Valid: 31.40% Test: 34.00%\n",
            "Epoch: 83, Loss: 0.0021, Train: 92.86%, Valid: 31.20% Test: 35.10%\n",
            "Epoch: 84, Loss: 0.0001, Train: 90.71%, Valid: 33.20% Test: 36.00%\n",
            "Epoch: 85, Loss: 0.0071, Train: 91.43%, Valid: 34.00% Test: 37.20%\n",
            "Epoch: 86, Loss: 0.0430, Train: 92.86%, Valid: 29.20% Test: 33.30%\n",
            "Epoch: 87, Loss: 0.0067, Train: 91.43%, Valid: 31.60% Test: 34.90%\n",
            "Epoch: 88, Loss: 0.0000, Train: 92.14%, Valid: 32.00% Test: 35.50%\n",
            "Epoch: 89, Loss: 0.0014, Train: 91.43%, Valid: 33.60% Test: 36.60%\n",
            "Epoch: 90, Loss: 0.0000, Train: 92.14%, Valid: 33.60% Test: 36.50%\n",
            "Epoch: 91, Loss: 0.0061, Train: 91.43%, Valid: 34.80% Test: 37.80%\n",
            "Epoch: 92, Loss: 0.0012, Train: 92.86%, Valid: 30.00% Test: 33.30%\n",
            "Epoch: 93, Loss: 0.0082, Train: 92.14%, Valid: 31.20% Test: 34.50%\n",
            "Epoch: 94, Loss: 0.0037, Train: 93.57%, Valid: 28.20% Test: 30.90%\n",
            "Epoch: 95, Loss: 0.0428, Train: 92.86%, Valid: 29.40% Test: 32.30%\n",
            "Epoch: 96, Loss: 0.0083, Train: 92.14%, Valid: 30.60% Test: 33.90%\n",
            "Epoch: 97, Loss: 0.0049, Train: 93.57%, Valid: 27.60% Test: 30.20%\n",
            "Epoch: 98, Loss: 0.0045, Train: 92.14%, Valid: 29.00% Test: 31.80%\n",
            "Epoch: 99, Loss: 0.0000, Train: 92.86%, Valid: 29.40% Test: 32.30%\n",
            "Epoch: 100, Loss: 0.0148, Train: 92.14%, Valid: 30.60% Test: 33.80%\n",
            "Epoch: 101, Loss: 0.0000, Train: 92.14%, Valid: 31.00% Test: 33.80%\n",
            "Epoch: 102, Loss: 0.0016, Train: 91.43%, Valid: 31.60% Test: 35.50%\n",
            "Epoch: 103, Loss: 0.0036, Train: 91.43%, Valid: 33.40% Test: 36.70%\n",
            "Epoch: 104, Loss: 0.0020, Train: 91.43%, Valid: 36.00% Test: 38.40%\n",
            "Epoch: 105, Loss: 0.0002, Train: 91.43%, Valid: 32.00% Test: 34.20%\n",
            "Epoch: 106, Loss: 0.0000, Train: 91.43%, Valid: 31.60% Test: 34.50%\n",
            "Epoch: 107, Loss: 0.0009, Train: 91.43%, Valid: 31.20% Test: 35.40%\n",
            "Epoch: 108, Loss: 0.0003, Train: 92.14%, Valid: 28.60% Test: 31.60%\n",
            "Epoch: 109, Loss: 0.0026, Train: 91.43%, Valid: 30.60% Test: 33.40%\n",
            "Epoch: 110, Loss: 0.0020, Train: 92.86%, Valid: 27.00% Test: 29.60%\n",
            "Epoch: 111, Loss: 0.0165, Train: 91.43%, Valid: 28.80% Test: 31.80%\n",
            "Epoch: 112, Loss: 0.0264, Train: 93.57%, Valid: 25.40% Test: 27.50%\n",
            "Epoch: 113, Loss: 0.0010, Train: 91.43%, Valid: 27.00% Test: 30.60%\n",
            "Epoch: 114, Loss: 0.0000, Train: 92.86%, Valid: 27.60% Test: 31.30%\n",
            "Epoch: 115, Loss: 0.0015, Train: 91.43%, Valid: 30.20% Test: 33.00%\n",
            "Epoch: 116, Loss: 0.0099, Train: 91.43%, Valid: 31.20% Test: 34.00%\n",
            "Epoch: 117, Loss: 0.0851, Train: 91.43%, Valid: 31.20% Test: 34.60%\n",
            "Epoch: 118, Loss: 0.0000, Train: 91.43%, Valid: 31.80% Test: 35.50%\n",
            "Epoch: 119, Loss: 0.0072, Train: 91.43%, Valid: 33.80% Test: 36.20%\n",
            "Epoch: 120, Loss: 0.0019, Train: 91.43%, Valid: 35.20% Test: 37.60%\n",
            "Epoch: 121, Loss: 0.0061, Train: 91.43%, Valid: 30.80% Test: 34.10%\n",
            "Epoch: 122, Loss: 0.0000, Train: 92.14%, Valid: 31.60% Test: 34.70%\n",
            "Epoch: 123, Loss: 0.0052, Train: 91.43%, Valid: 32.00% Test: 35.60%\n",
            "Epoch: 124, Loss: 0.0000, Train: 92.14%, Valid: 28.60% Test: 32.20%\n",
            "Epoch: 125, Loss: 0.0042, Train: 92.14%, Valid: 31.00% Test: 34.00%\n",
            "Epoch: 126, Loss: 0.0007, Train: 91.43%, Valid: 32.00% Test: 35.00%\n",
            "Epoch: 127, Loss: 0.0002, Train: 91.43%, Valid: 33.20% Test: 36.40%\n",
            "Epoch: 128, Loss: 0.0039, Train: 91.43%, Valid: 35.20% Test: 38.40%\n",
            "Epoch: 129, Loss: 0.0062, Train: 91.43%, Valid: 36.80% Test: 39.70%\n",
            "Epoch: 130, Loss: 0.0051, Train: 91.43%, Valid: 37.60% Test: 40.40%\n",
            "Epoch: 131, Loss: 0.0011, Train: 91.43%, Valid: 37.60% Test: 41.20%\n",
            "Epoch: 132, Loss: 0.0015, Train: 91.43%, Valid: 38.80% Test: 41.60%\n",
            "Epoch: 133, Loss: 0.0000, Train: 91.43%, Valid: 38.20% Test: 41.90%\n",
            "Epoch: 134, Loss: 0.0084, Train: 91.43%, Valid: 39.40% Test: 43.30%\n",
            "Epoch: 135, Loss: 0.0012, Train: 91.43%, Valid: 39.20% Test: 43.20%\n",
            "Epoch: 136, Loss: 0.0000, Train: 91.43%, Valid: 39.60% Test: 43.30%\n",
            "Epoch: 137, Loss: 0.0107, Train: 91.43%, Valid: 39.20% Test: 43.40%\n",
            "Epoch: 138, Loss: 0.0114, Train: 91.43%, Valid: 40.20% Test: 43.50%\n",
            "Epoch: 139, Loss: 0.0002, Train: 91.43%, Valid: 40.20% Test: 43.20%\n",
            "Epoch: 140, Loss: 0.0009, Train: 91.43%, Valid: 36.40% Test: 39.50%\n",
            "Epoch: 141, Loss: 0.0032, Train: 91.43%, Valid: 37.40% Test: 40.70%\n",
            "Epoch: 142, Loss: 0.0003, Train: 91.43%, Valid: 33.60% Test: 35.80%\n",
            "Epoch: 143, Loss: 0.0020, Train: 91.43%, Valid: 34.40% Test: 37.10%\n",
            "Epoch: 144, Loss: 0.0016, Train: 91.43%, Valid: 35.40% Test: 38.60%\n",
            "Epoch: 145, Loss: 0.0076, Train: 91.43%, Valid: 36.60% Test: 39.60%\n",
            "Epoch: 146, Loss: 0.0012, Train: 91.43%, Valid: 37.40% Test: 40.50%\n",
            "Epoch: 147, Loss: 0.0007, Train: 91.43%, Valid: 34.20% Test: 36.00%\n",
            "Epoch: 148, Loss: 0.0001, Train: 91.43%, Valid: 35.40% Test: 37.70%\n",
            "Epoch: 149, Loss: 0.0001, Train: 91.43%, Valid: 36.40% Test: 39.00%\n",
            "Epoch: 150, Loss: 0.0000, Train: 91.43%, Valid: 35.40% Test: 39.20%\n",
            "Best model: Train: 87.86%, Valid: 44.20% Test: 43.40%\n"
          ],
          "name": "stdout"
        }
      ]
    },
    {
      "cell_type": "markdown",
      "metadata": {
        "id": "6CvTf0ANVO9U"
      },
      "source": [
        "## Bisection Preprocess"
      ]
    },
    {
      "cell_type": "code",
      "metadata": {
        "id": "HkV0zlhgVJ7u",
        "outputId": "c86098ba-6acb-4a4c-b3d6-3542118496de",
        "colab": {
          "base_uri": "https://localhost:8080/"
        }
      },
      "source": [
        "graphs_train, graphs_val, graphs_test = \\\n",
        "    GraphDataset.pyg_to_graphs(pyg_dataset, verbose=True, fixed_split=True)\n",
        "\n",
        "graph_train = graphs_train[0]\n",
        "graph_val = graphs_val[0]\n",
        "graph_test = graphs_test[0]\n",
        "graphs = preprocess(graph_train.G, graph_train.node_label_index, method=\"bisection\")\n",
        "print(\"Partition the graph in to {} communities\".format(len(graphs)))\n",
        "avg_num_nodes = 0\n",
        "avg_num_edges = 0\n",
        "for graph in graphs:\n",
        "    avg_num_nodes += graph.num_nodes\n",
        "    avg_num_edges += graph.num_edges\n",
        "avg_num_nodes = int(avg_num_nodes / len(graphs))\n",
        "avg_num_edges = int(avg_num_edges / len(graphs))\n",
        "print(\"Each community has {} nodes in average\".format(avg_num_nodes))\n",
        "print(\"Each community has {} edges in average\".format(avg_num_edges))"
      ],
      "execution_count": 26,
      "outputs": [
        {
          "output_type": "stream",
          "text": [
            "Index fields: train_mask ignored.\n",
            "Index fields: val_mask ignored.\n",
            "Index fields: test_mask ignored.\n",
            "Partition the graph in to 2 communities\n",
            "Each community has 1354 nodes in average\n",
            "Each community has 1415 edges in average\n"
          ],
          "name": "stdout"
        }
      ]
    },
    {
      "cell_type": "markdown",
      "metadata": {
        "id": "IqMCvP8wVVms"
      },
      "source": [
        "## Bisection Training"
      ]
    },
    {
      "cell_type": "code",
      "metadata": {
        "id": "k1wgFg1bVRGY",
        "outputId": "ad962b8e-82c8-4e4c-8fd7-d2e2ff74cf08",
        "colab": {
          "base_uri": "https://localhost:8080/"
        }
      },
      "source": [
        "model = GNN(graph_train.num_node_features, args['hidden_size'], graph_train.num_node_labels, args).to(args['device'])\n",
        "optimizer = torch.optim.Adam(model.parameters(), lr=args['lr'])\n",
        "bisection_best_model, bisection_accs = train(graphs, [graph_train, graph_val, graph_test], args, model, optimizer, mode=\"community\")\n",
        "train_acc, val_acc, test_acc = test([graph_train, graph_val, graph_test], bisection_best_model)\n",
        "print('Best model:',\n",
        "      f'Train: {100 * train_acc:.2f}%, '\n",
        "      f'Valid: {100 * val_acc:.2f}% '\n",
        "      f'Test: {100 * test_acc:.2f}%')"
      ],
      "execution_count": 27,
      "outputs": [
        {
          "output_type": "stream",
          "text": [
            "Epoch: 01, Loss: 2.0310, Train: 33.57%, Valid: 36.60% Test: 41.30%\n",
            "Epoch: 02, Loss: 1.1955, Train: 42.86%, Valid: 40.20% Test: 44.50%\n",
            "Epoch: 03, Loss: 0.6865, Train: 60.00%, Valid: 43.60% Test: 48.00%\n",
            "Epoch: 04, Loss: 0.3619, Train: 64.29%, Valid: 43.20% Test: 50.60%\n",
            "Epoch: 05, Loss: 0.2499, Train: 64.29%, Valid: 43.60% Test: 51.60%\n",
            "Epoch: 06, Loss: 0.1364, Train: 67.86%, Valid: 43.60% Test: 53.00%\n",
            "Epoch: 07, Loss: 1.6444, Train: 74.29%, Valid: 48.80% Test: 57.20%\n",
            "Epoch: 08, Loss: 0.0553, Train: 83.57%, Valid: 54.20% Test: 62.10%\n",
            "Epoch: 09, Loss: 0.7969, Train: 92.86%, Valid: 61.00% Test: 66.70%\n",
            "Epoch: 10, Loss: 0.4784, Train: 97.86%, Valid: 62.60% Test: 69.90%\n",
            "Epoch: 11, Loss: 0.0321, Train: 99.29%, Valid: 65.40% Test: 70.70%\n",
            "Epoch: 12, Loss: 0.0184, Train: 99.29%, Valid: 67.20% Test: 71.30%\n",
            "Epoch: 13, Loss: 0.1548, Train: 99.29%, Valid: 68.20% Test: 71.60%\n",
            "Epoch: 14, Loss: 0.0723, Train: 99.29%, Valid: 68.80% Test: 71.70%\n",
            "Epoch: 15, Loss: 0.0268, Train: 99.29%, Valid: 69.60% Test: 72.20%\n",
            "Epoch: 16, Loss: 0.0281, Train: 99.29%, Valid: 70.20% Test: 72.00%\n",
            "Epoch: 17, Loss: 0.0205, Train: 99.29%, Valid: 70.40% Test: 71.70%\n",
            "Epoch: 18, Loss: 0.0441, Train: 99.29%, Valid: 71.00% Test: 71.60%\n",
            "Epoch: 19, Loss: 0.0274, Train: 100.00%, Valid: 71.00% Test: 71.50%\n",
            "Epoch: 20, Loss: 0.0237, Train: 100.00%, Valid: 71.00% Test: 72.00%\n",
            "Epoch: 21, Loss: 0.0284, Train: 100.00%, Valid: 71.00% Test: 72.20%\n",
            "Epoch: 22, Loss: 0.0386, Train: 100.00%, Valid: 71.20% Test: 72.10%\n",
            "Epoch: 23, Loss: 0.0165, Train: 100.00%, Valid: 71.80% Test: 72.10%\n",
            "Epoch: 24, Loss: 0.0241, Train: 100.00%, Valid: 71.60% Test: 72.30%\n",
            "Epoch: 25, Loss: 0.0077, Train: 100.00%, Valid: 71.80% Test: 72.20%\n",
            "Epoch: 26, Loss: 0.0008, Train: 100.00%, Valid: 71.80% Test: 72.50%\n",
            "Epoch: 27, Loss: 0.0042, Train: 100.00%, Valid: 71.80% Test: 72.60%\n",
            "Epoch: 28, Loss: 0.0005, Train: 100.00%, Valid: 71.60% Test: 72.80%\n",
            "Epoch: 29, Loss: 0.0036, Train: 100.00%, Valid: 71.60% Test: 72.90%\n",
            "Epoch: 30, Loss: 0.0040, Train: 100.00%, Valid: 71.60% Test: 72.90%\n",
            "Epoch: 31, Loss: 0.0042, Train: 100.00%, Valid: 71.60% Test: 72.90%\n",
            "Epoch: 32, Loss: 0.0050, Train: 100.00%, Valid: 71.80% Test: 72.80%\n",
            "Epoch: 33, Loss: 0.0243, Train: 100.00%, Valid: 71.40% Test: 72.90%\n",
            "Epoch: 34, Loss: 0.0098, Train: 100.00%, Valid: 71.20% Test: 72.80%\n",
            "Epoch: 35, Loss: 0.0028, Train: 100.00%, Valid: 71.60% Test: 73.00%\n",
            "Epoch: 36, Loss: 0.0057, Train: 100.00%, Valid: 71.40% Test: 73.00%\n",
            "Epoch: 37, Loss: 0.0006, Train: 100.00%, Valid: 71.40% Test: 72.80%\n",
            "Epoch: 38, Loss: 0.0076, Train: 100.00%, Valid: 71.40% Test: 72.90%\n",
            "Epoch: 39, Loss: 0.0008, Train: 100.00%, Valid: 71.40% Test: 72.90%\n",
            "Epoch: 40, Loss: 0.0023, Train: 100.00%, Valid: 71.40% Test: 72.90%\n",
            "Epoch: 41, Loss: 0.0023, Train: 100.00%, Valid: 71.40% Test: 72.90%\n",
            "Epoch: 42, Loss: 0.0026, Train: 100.00%, Valid: 71.40% Test: 73.10%\n",
            "Epoch: 43, Loss: 0.0044, Train: 100.00%, Valid: 71.20% Test: 73.00%\n",
            "Epoch: 44, Loss: 0.0103, Train: 100.00%, Valid: 71.20% Test: 72.90%\n",
            "Epoch: 45, Loss: 0.0102, Train: 100.00%, Valid: 70.80% Test: 72.60%\n",
            "Epoch: 46, Loss: 0.0182, Train: 100.00%, Valid: 70.80% Test: 72.60%\n",
            "Epoch: 47, Loss: 0.0182, Train: 100.00%, Valid: 70.60% Test: 72.60%\n",
            "Epoch: 48, Loss: 0.0002, Train: 100.00%, Valid: 70.60% Test: 72.40%\n",
            "Epoch: 49, Loss: 0.0005, Train: 100.00%, Valid: 70.40% Test: 72.20%\n",
            "Epoch: 50, Loss: 0.0030, Train: 100.00%, Valid: 70.40% Test: 72.00%\n",
            "Epoch: 51, Loss: 0.0191, Train: 100.00%, Valid: 70.40% Test: 71.90%\n",
            "Epoch: 52, Loss: 0.0015, Train: 100.00%, Valid: 70.40% Test: 71.80%\n",
            "Epoch: 53, Loss: 0.0001, Train: 100.00%, Valid: 70.20% Test: 71.80%\n",
            "Epoch: 54, Loss: 0.0118, Train: 100.00%, Valid: 70.00% Test: 71.80%\n",
            "Epoch: 55, Loss: 0.0127, Train: 100.00%, Valid: 69.80% Test: 71.70%\n",
            "Epoch: 56, Loss: 0.0023, Train: 100.00%, Valid: 69.60% Test: 71.60%\n",
            "Epoch: 57, Loss: 0.0031, Train: 100.00%, Valid: 69.60% Test: 71.50%\n",
            "Epoch: 58, Loss: 0.0028, Train: 100.00%, Valid: 69.80% Test: 71.30%\n",
            "Epoch: 59, Loss: 0.0034, Train: 100.00%, Valid: 69.80% Test: 71.40%\n",
            "Epoch: 60, Loss: 0.0001, Train: 100.00%, Valid: 69.60% Test: 71.40%\n",
            "Epoch: 61, Loss: 0.0003, Train: 100.00%, Valid: 69.80% Test: 71.20%\n",
            "Epoch: 62, Loss: 0.0233, Train: 100.00%, Valid: 69.80% Test: 71.10%\n",
            "Epoch: 63, Loss: 0.0023, Train: 100.00%, Valid: 70.00% Test: 70.80%\n",
            "Epoch: 64, Loss: 0.0005, Train: 100.00%, Valid: 70.00% Test: 70.70%\n",
            "Epoch: 65, Loss: 0.0021, Train: 100.00%, Valid: 69.80% Test: 70.70%\n",
            "Epoch: 66, Loss: 0.0018, Train: 100.00%, Valid: 70.00% Test: 70.80%\n",
            "Epoch: 67, Loss: 0.0011, Train: 100.00%, Valid: 69.80% Test: 70.60%\n",
            "Epoch: 68, Loss: 0.0003, Train: 100.00%, Valid: 69.80% Test: 70.60%\n",
            "Epoch: 69, Loss: 0.0011, Train: 100.00%, Valid: 70.00% Test: 70.40%\n",
            "Epoch: 70, Loss: 0.0008, Train: 100.00%, Valid: 70.40% Test: 70.60%\n",
            "Epoch: 71, Loss: 0.0011, Train: 100.00%, Valid: 70.00% Test: 70.70%\n",
            "Epoch: 72, Loss: 0.0013, Train: 100.00%, Valid: 70.60% Test: 70.90%\n",
            "Epoch: 73, Loss: 0.0005, Train: 100.00%, Valid: 70.20% Test: 71.00%\n",
            "Epoch: 74, Loss: 0.0014, Train: 100.00%, Valid: 70.40% Test: 71.20%\n",
            "Epoch: 75, Loss: 0.0014, Train: 100.00%, Valid: 70.40% Test: 71.10%\n",
            "Epoch: 76, Loss: 0.0006, Train: 100.00%, Valid: 70.60% Test: 71.20%\n",
            "Epoch: 77, Loss: 0.0049, Train: 100.00%, Valid: 70.80% Test: 71.10%\n",
            "Epoch: 78, Loss: 0.0001, Train: 100.00%, Valid: 70.80% Test: 71.20%\n",
            "Epoch: 79, Loss: 0.0001, Train: 100.00%, Valid: 70.80% Test: 71.30%\n",
            "Epoch: 80, Loss: 0.0021, Train: 100.00%, Valid: 70.40% Test: 71.50%\n",
            "Epoch: 81, Loss: 0.0046, Train: 100.00%, Valid: 70.60% Test: 71.30%\n",
            "Epoch: 82, Loss: 0.0059, Train: 100.00%, Valid: 70.40% Test: 71.20%\n",
            "Epoch: 83, Loss: 0.0012, Train: 100.00%, Valid: 70.00% Test: 71.30%\n",
            "Epoch: 84, Loss: 0.0006, Train: 100.00%, Valid: 70.00% Test: 71.30%\n",
            "Epoch: 85, Loss: 0.0013, Train: 100.00%, Valid: 69.80% Test: 71.00%\n",
            "Epoch: 86, Loss: 0.0087, Train: 100.00%, Valid: 69.60% Test: 70.80%\n",
            "Epoch: 87, Loss: 0.0019, Train: 100.00%, Valid: 69.60% Test: 70.80%\n",
            "Epoch: 88, Loss: 0.0006, Train: 100.00%, Valid: 69.60% Test: 71.00%\n",
            "Epoch: 89, Loss: 0.0324, Train: 100.00%, Valid: 69.40% Test: 70.80%\n",
            "Epoch: 90, Loss: 0.0015, Train: 100.00%, Valid: 69.40% Test: 70.70%\n",
            "Epoch: 91, Loss: 0.0000, Train: 100.00%, Valid: 69.20% Test: 70.70%\n",
            "Epoch: 92, Loss: 0.0003, Train: 100.00%, Valid: 69.20% Test: 70.70%\n",
            "Epoch: 93, Loss: 0.0196, Train: 100.00%, Valid: 69.80% Test: 71.50%\n",
            "Epoch: 94, Loss: 0.0010, Train: 100.00%, Valid: 69.80% Test: 71.50%\n",
            "Epoch: 95, Loss: 0.0028, Train: 100.00%, Valid: 70.40% Test: 71.60%\n",
            "Epoch: 96, Loss: 0.0003, Train: 100.00%, Valid: 70.40% Test: 72.30%\n",
            "Epoch: 97, Loss: 0.0005, Train: 100.00%, Valid: 70.40% Test: 72.70%\n",
            "Epoch: 98, Loss: 0.0007, Train: 100.00%, Valid: 70.60% Test: 72.60%\n",
            "Epoch: 99, Loss: 0.0001, Train: 100.00%, Valid: 70.60% Test: 72.50%\n",
            "Epoch: 100, Loss: 0.0197, Train: 100.00%, Valid: 70.60% Test: 72.40%\n",
            "Epoch: 101, Loss: 0.0003, Train: 100.00%, Valid: 70.40% Test: 72.70%\n",
            "Epoch: 102, Loss: 0.0006, Train: 100.00%, Valid: 70.40% Test: 72.90%\n",
            "Epoch: 103, Loss: 0.0006, Train: 100.00%, Valid: 70.40% Test: 73.00%\n",
            "Epoch: 104, Loss: 0.0001, Train: 100.00%, Valid: 70.60% Test: 73.10%\n",
            "Epoch: 105, Loss: 0.0005, Train: 100.00%, Valid: 70.40% Test: 73.10%\n",
            "Epoch: 106, Loss: 0.0005, Train: 100.00%, Valid: 70.40% Test: 72.90%\n",
            "Epoch: 107, Loss: 0.0005, Train: 100.00%, Valid: 70.40% Test: 73.30%\n",
            "Epoch: 108, Loss: 0.0004, Train: 100.00%, Valid: 70.20% Test: 73.20%\n",
            "Epoch: 109, Loss: 0.0005, Train: 100.00%, Valid: 70.20% Test: 73.20%\n",
            "Epoch: 110, Loss: 0.0001, Train: 100.00%, Valid: 70.40% Test: 73.50%\n",
            "Epoch: 111, Loss: 0.0007, Train: 100.00%, Valid: 70.40% Test: 73.60%\n",
            "Epoch: 112, Loss: 0.0005, Train: 100.00%, Valid: 70.40% Test: 73.50%\n",
            "Epoch: 113, Loss: 0.0055, Train: 100.00%, Valid: 70.20% Test: 73.40%\n",
            "Epoch: 114, Loss: 0.0129, Train: 100.00%, Valid: 70.40% Test: 73.50%\n",
            "Epoch: 115, Loss: 0.0008, Train: 100.00%, Valid: 70.60% Test: 73.70%\n",
            "Epoch: 116, Loss: 0.0128, Train: 100.00%, Valid: 70.60% Test: 73.80%\n",
            "Epoch: 117, Loss: 0.0002, Train: 100.00%, Valid: 70.60% Test: 73.80%\n",
            "Epoch: 118, Loss: 0.0003, Train: 100.00%, Valid: 70.80% Test: 73.70%\n",
            "Epoch: 119, Loss: 0.0006, Train: 100.00%, Valid: 70.80% Test: 73.70%\n",
            "Epoch: 120, Loss: 0.0095, Train: 100.00%, Valid: 70.80% Test: 73.50%\n",
            "Epoch: 121, Loss: 0.0011, Train: 100.00%, Valid: 70.60% Test: 73.40%\n",
            "Epoch: 122, Loss: 0.0041, Train: 100.00%, Valid: 70.60% Test: 73.40%\n",
            "Epoch: 123, Loss: 0.0001, Train: 100.00%, Valid: 70.60% Test: 73.40%\n",
            "Epoch: 124, Loss: 0.0003, Train: 100.00%, Valid: 70.60% Test: 73.30%\n",
            "Epoch: 125, Loss: 0.0003, Train: 100.00%, Valid: 70.20% Test: 73.20%\n",
            "Epoch: 126, Loss: 0.0002, Train: 100.00%, Valid: 69.80% Test: 73.30%\n",
            "Epoch: 127, Loss: 0.0092, Train: 100.00%, Valid: 69.80% Test: 73.50%\n",
            "Epoch: 128, Loss: 0.0000, Train: 100.00%, Valid: 70.20% Test: 73.50%\n",
            "Epoch: 129, Loss: 0.0009, Train: 100.00%, Valid: 70.20% Test: 73.50%\n",
            "Epoch: 130, Loss: 0.0028, Train: 100.00%, Valid: 70.40% Test: 73.50%\n",
            "Epoch: 131, Loss: 0.0002, Train: 100.00%, Valid: 70.40% Test: 73.40%\n",
            "Epoch: 132, Loss: 0.0001, Train: 100.00%, Valid: 70.40% Test: 73.30%\n",
            "Epoch: 133, Loss: 0.0021, Train: 100.00%, Valid: 70.40% Test: 73.20%\n",
            "Epoch: 134, Loss: 0.0002, Train: 100.00%, Valid: 70.60% Test: 73.40%\n",
            "Epoch: 135, Loss: 0.0007, Train: 100.00%, Valid: 70.80% Test: 73.40%\n",
            "Epoch: 136, Loss: 0.0011, Train: 100.00%, Valid: 71.00% Test: 73.40%\n",
            "Epoch: 137, Loss: 0.0000, Train: 100.00%, Valid: 71.00% Test: 73.50%\n",
            "Epoch: 138, Loss: 0.0004, Train: 100.00%, Valid: 71.20% Test: 73.50%\n",
            "Epoch: 139, Loss: 0.0001, Train: 100.00%, Valid: 70.80% Test: 73.40%\n",
            "Epoch: 140, Loss: 0.0001, Train: 100.00%, Valid: 70.60% Test: 73.30%\n",
            "Epoch: 141, Loss: 0.0001, Train: 100.00%, Valid: 70.80% Test: 73.50%\n",
            "Epoch: 142, Loss: 0.0001, Train: 100.00%, Valid: 70.60% Test: 73.50%\n",
            "Epoch: 143, Loss: 0.0001, Train: 100.00%, Valid: 71.00% Test: 73.40%\n",
            "Epoch: 144, Loss: 0.0000, Train: 100.00%, Valid: 71.20% Test: 73.40%\n",
            "Epoch: 145, Loss: 0.0002, Train: 100.00%, Valid: 71.20% Test: 73.30%\n",
            "Epoch: 146, Loss: 0.0006, Train: 100.00%, Valid: 71.20% Test: 73.40%\n",
            "Epoch: 147, Loss: 0.0013, Train: 100.00%, Valid: 71.20% Test: 73.20%\n",
            "Epoch: 148, Loss: 0.0011, Train: 100.00%, Valid: 71.20% Test: 73.40%\n",
            "Epoch: 149, Loss: 0.0011, Train: 100.00%, Valid: 71.00% Test: 73.40%\n",
            "Epoch: 150, Loss: 0.0023, Train: 100.00%, Valid: 71.20% Test: 73.40%\n",
            "Best model: Train: 100.00%, Valid: 71.80% Test: 72.10%\n"
          ],
          "name": "stdout"
        }
      ]
    },
    {
      "cell_type": "markdown",
      "metadata": {
        "id": "5PROPwoOVcJy"
      },
      "source": [
        "## Greedy Preprocess"
      ]
    },
    {
      "cell_type": "code",
      "metadata": {
        "id": "h3DVamWqVT92",
        "outputId": "b8e8940d-277c-4d41-9b4b-87774a58847c",
        "colab": {
          "base_uri": "https://localhost:8080/"
        }
      },
      "source": [
        "graphs_train, graphs_val, graphs_test = \\\n",
        "    GraphDataset.pyg_to_graphs(pyg_dataset, verbose=True, fixed_split=True)\n",
        "\n",
        "graph_train = graphs_train[0]\n",
        "graph_val = graphs_val[0]\n",
        "graph_test = graphs_test[0]\n",
        "graphs = preprocess(graph_train.G, graph_train.node_label_index, method=\"greedy\")\n",
        "print(\"Partition the graph in to {} communities\".format(len(graphs)))\n",
        "avg_num_nodes = 0\n",
        "avg_num_edges = 0\n",
        "for graph in graphs:\n",
        "    avg_num_nodes += graph.num_nodes\n",
        "    avg_num_edges += graph.num_edges\n",
        "avg_num_nodes = int(avg_num_nodes / len(graphs))\n",
        "avg_num_edges = int(avg_num_edges / len(graphs))\n",
        "print(\"Each community has {} nodes in average\".format(avg_num_nodes))\n",
        "print(\"Each community has {} edges in average\".format(avg_num_edges))"
      ],
      "execution_count": 28,
      "outputs": [
        {
          "output_type": "stream",
          "text": [
            "Index fields: train_mask ignored.\n",
            "Index fields: val_mask ignored.\n",
            "Index fields: test_mask ignored.\n",
            "Partition the graph in to 20 communities\n",
            "Each community has 121 nodes in average\n",
            "Each community has 222 edges in average\n"
          ],
          "name": "stdout"
        }
      ]
    },
    {
      "cell_type": "markdown",
      "metadata": {
        "id": "93pR_-kxVgma"
      },
      "source": [
        "## Greedy Training"
      ]
    },
    {
      "cell_type": "code",
      "metadata": {
        "id": "lQgQY-jPVd_U",
        "outputId": "6b5301cd-277b-401c-eda6-437300742f79",
        "colab": {
          "base_uri": "https://localhost:8080/"
        }
      },
      "source": [
        "model = GNN(graph_train.num_node_features, args['hidden_size'], graph_train.num_node_labels, args).to(args['device'])\n",
        "optimizer = torch.optim.Adam(model.parameters(), lr=args['lr'])\n",
        "greedy_best_model, greedy_accs = train(graphs, [graph_train, graph_val, graph_test], args, model, optimizer, mode=\"community\")\n",
        "train_acc, val_acc, test_acc = test([graph_train, graph_val, graph_test], greedy_best_model)\n",
        "print('Best model:',\n",
        "      f'Train: {100 * train_acc:.2f}%, '\n",
        "      f'Valid: {100 * val_acc:.2f}% '\n",
        "      f'Test: {100 * test_acc:.2f}%')"
      ],
      "execution_count": 29,
      "outputs": [
        {
          "output_type": "stream",
          "text": [
            "Epoch: 01, Loss: 2.4290, Train: 10.71%, Valid: 8.80% Test: 10.50%\n",
            "Epoch: 02, Loss: 2.1775, Train: 24.29%, Valid: 16.60% Test: 15.30%\n",
            "Epoch: 03, Loss: 2.0181, Train: 27.86%, Valid: 12.40% Test: 13.70%\n",
            "Epoch: 04, Loss: 2.2759, Train: 30.00%, Valid: 11.40% Test: 13.30%\n",
            "Epoch: 05, Loss: 1.2065, Train: 31.43%, Valid: 9.80% Test: 11.30%\n",
            "Epoch: 06, Loss: 2.5286, Train: 28.57%, Valid: 8.20% Test: 10.70%\n",
            "Epoch: 07, Loss: 0.0468, Train: 26.43%, Valid: 7.40% Test: 9.30%\n",
            "Epoch: 08, Loss: 3.1253, Train: 25.71%, Valid: 7.60% Test: 9.30%\n",
            "Epoch: 09, Loss: 1.9669, Train: 25.71%, Valid: 7.60% Test: 9.30%\n",
            "Epoch: 10, Loss: 2.8436, Train: 25.00%, Valid: 7.60% Test: 9.30%\n",
            "Epoch: 11, Loss: 1.9471, Train: 25.71%, Valid: 8.00% Test: 9.90%\n",
            "Epoch: 12, Loss: 2.8021, Train: 31.43%, Valid: 10.80% Test: 12.20%\n",
            "Epoch: 13, Loss: 0.4417, Train: 37.14%, Valid: 14.20% Test: 15.60%\n",
            "Epoch: 14, Loss: 1.2257, Train: 39.29%, Valid: 17.40% Test: 19.60%\n",
            "Epoch: 15, Loss: 2.1954, Train: 42.86%, Valid: 17.60% Test: 21.00%\n",
            "Epoch: 16, Loss: 1.6991, Train: 44.29%, Valid: 18.80% Test: 22.30%\n",
            "Epoch: 17, Loss: 0.3349, Train: 48.57%, Valid: 19.20% Test: 21.40%\n",
            "Epoch: 18, Loss: 0.3738, Train: 47.86%, Valid: 20.00% Test: 22.20%\n",
            "Epoch: 19, Loss: 0.9563, Train: 47.86%, Valid: 17.60% Test: 20.40%\n",
            "Epoch: 20, Loss: 5.2352, Train: 45.71%, Valid: 16.20% Test: 19.10%\n",
            "Epoch: 21, Loss: 0.3036, Train: 42.14%, Valid: 14.60% Test: 16.60%\n",
            "Epoch: 22, Loss: 0.2862, Train: 38.57%, Valid: 14.00% Test: 13.80%\n",
            "Epoch: 23, Loss: 1.4515, Train: 39.29%, Valid: 14.80% Test: 15.70%\n",
            "Epoch: 24, Loss: 1.6206, Train: 40.00%, Valid: 17.00% Test: 18.20%\n",
            "Epoch: 25, Loss: 1.2709, Train: 42.14%, Valid: 17.40% Test: 18.60%\n",
            "Epoch: 26, Loss: 0.9482, Train: 45.71%, Valid: 17.80% Test: 20.20%\n",
            "Epoch: 27, Loss: 0.0140, Train: 46.43%, Valid: 19.00% Test: 22.60%\n",
            "Epoch: 28, Loss: 0.0227, Train: 48.57%, Valid: 21.60% Test: 24.80%\n",
            "Epoch: 29, Loss: 0.0896, Train: 48.57%, Valid: 23.20% Test: 26.70%\n",
            "Epoch: 30, Loss: 0.0160, Train: 50.00%, Valid: 25.60% Test: 28.30%\n",
            "Epoch: 31, Loss: 0.1636, Train: 49.29%, Valid: 24.80% Test: 27.80%\n",
            "Epoch: 32, Loss: 0.4219, Train: 49.29%, Valid: 23.60% Test: 26.80%\n",
            "Epoch: 33, Loss: 1.0483, Train: 49.29%, Valid: 23.60% Test: 26.60%\n",
            "Epoch: 34, Loss: 0.8825, Train: 52.14%, Valid: 24.20% Test: 26.60%\n",
            "Epoch: 35, Loss: 1.3116, Train: 52.86%, Valid: 23.60% Test: 26.60%\n",
            "Epoch: 36, Loss: 0.5928, Train: 54.29%, Valid: 22.80% Test: 26.40%\n",
            "Epoch: 37, Loss: 0.2265, Train: 54.29%, Valid: 22.60% Test: 25.70%\n",
            "Epoch: 38, Loss: 0.0159, Train: 54.29%, Valid: 22.60% Test: 25.60%\n",
            "Epoch: 39, Loss: 0.3848, Train: 55.00%, Valid: 20.60% Test: 23.90%\n",
            "Epoch: 40, Loss: 0.1969, Train: 55.00%, Valid: 19.80% Test: 22.50%\n",
            "Epoch: 41, Loss: 2.1578, Train: 55.71%, Valid: 19.00% Test: 22.20%\n",
            "Epoch: 42, Loss: 0.2611, Train: 55.71%, Valid: 18.20% Test: 21.00%\n",
            "Epoch: 43, Loss: 0.0651, Train: 57.14%, Valid: 19.60% Test: 21.30%\n",
            "Epoch: 44, Loss: 3.6286, Train: 56.43%, Valid: 18.20% Test: 20.20%\n",
            "Epoch: 45, Loss: 2.4085, Train: 56.43%, Valid: 17.60% Test: 20.60%\n",
            "Epoch: 46, Loss: 0.0025, Train: 55.71%, Valid: 17.20% Test: 20.10%\n",
            "Epoch: 47, Loss: 0.0013, Train: 55.71%, Valid: 16.80% Test: 19.30%\n",
            "Epoch: 48, Loss: 0.1247, Train: 56.43%, Valid: 17.40% Test: 19.20%\n",
            "Epoch: 49, Loss: 0.0404, Train: 56.43%, Valid: 18.20% Test: 19.90%\n",
            "Epoch: 50, Loss: 1.8505, Train: 57.86%, Valid: 19.80% Test: 20.70%\n",
            "Epoch: 51, Loss: 0.0009, Train: 60.00%, Valid: 19.60% Test: 22.40%\n",
            "Epoch: 52, Loss: 0.0110, Train: 60.00%, Valid: 20.00% Test: 23.10%\n",
            "Epoch: 53, Loss: 0.0596, Train: 60.71%, Valid: 20.80% Test: 23.70%\n",
            "Epoch: 54, Loss: 0.9862, Train: 62.86%, Valid: 19.60% Test: 22.90%\n",
            "Epoch: 55, Loss: 0.0026, Train: 62.14%, Valid: 19.80% Test: 21.30%\n",
            "Epoch: 56, Loss: 3.0006, Train: 64.29%, Valid: 19.20% Test: 20.40%\n",
            "Epoch: 57, Loss: 0.5374, Train: 66.43%, Valid: 18.80% Test: 20.10%\n",
            "Epoch: 58, Loss: 0.2119, Train: 67.86%, Valid: 18.40% Test: 19.90%\n",
            "Epoch: 59, Loss: 1.7682, Train: 69.29%, Valid: 18.60% Test: 19.90%\n",
            "Epoch: 60, Loss: 0.5032, Train: 71.43%, Valid: 18.00% Test: 19.30%\n",
            "Epoch: 61, Loss: 0.1658, Train: 70.71%, Valid: 17.60% Test: 18.80%\n",
            "Epoch: 62, Loss: 0.2921, Train: 70.71%, Valid: 16.40% Test: 17.60%\n",
            "Epoch: 63, Loss: 0.3803, Train: 71.43%, Valid: 16.40% Test: 17.30%\n",
            "Epoch: 64, Loss: 0.0102, Train: 70.71%, Valid: 16.20% Test: 16.70%\n",
            "Epoch: 65, Loss: 0.0596, Train: 70.00%, Valid: 17.00% Test: 16.90%\n",
            "Epoch: 66, Loss: 0.2736, Train: 70.71%, Valid: 16.80% Test: 16.90%\n",
            "Epoch: 67, Loss: 0.0216, Train: 70.00%, Valid: 17.20% Test: 16.80%\n",
            "Epoch: 68, Loss: 2.0839, Train: 70.71%, Valid: 17.20% Test: 17.80%\n",
            "Epoch: 69, Loss: 0.3141, Train: 72.14%, Valid: 18.00% Test: 18.30%\n",
            "Epoch: 70, Loss: 0.1153, Train: 73.57%, Valid: 17.80% Test: 17.70%\n",
            "Epoch: 71, Loss: 0.1518, Train: 74.29%, Valid: 17.00% Test: 17.30%\n",
            "Epoch: 72, Loss: 0.5103, Train: 77.14%, Valid: 17.00% Test: 18.20%\n",
            "Epoch: 73, Loss: 0.3940, Train: 79.29%, Valid: 17.80% Test: 18.70%\n",
            "Epoch: 74, Loss: 0.2318, Train: 80.71%, Valid: 18.20% Test: 19.10%\n",
            "Epoch: 75, Loss: 0.2647, Train: 80.00%, Valid: 19.00% Test: 18.90%\n",
            "Epoch: 76, Loss: 0.4121, Train: 80.71%, Valid: 18.40% Test: 18.80%\n",
            "Epoch: 77, Loss: 0.1054, Train: 81.43%, Valid: 17.40% Test: 19.10%\n",
            "Epoch: 78, Loss: 0.2816, Train: 80.71%, Valid: 17.60% Test: 18.30%\n",
            "Epoch: 79, Loss: 0.0726, Train: 79.29%, Valid: 17.60% Test: 18.90%\n",
            "Epoch: 80, Loss: 0.1320, Train: 79.29%, Valid: 17.40% Test: 18.80%\n",
            "Epoch: 81, Loss: 0.2297, Train: 78.57%, Valid: 17.20% Test: 19.20%\n",
            "Epoch: 82, Loss: 0.0042, Train: 78.57%, Valid: 17.40% Test: 18.90%\n",
            "Epoch: 83, Loss: 0.0052, Train: 77.86%, Valid: 17.40% Test: 18.90%\n",
            "Epoch: 84, Loss: 0.0347, Train: 77.86%, Valid: 17.20% Test: 19.10%\n",
            "Epoch: 85, Loss: 1.3426, Train: 80.71%, Valid: 17.20% Test: 18.90%\n",
            "Epoch: 86, Loss: 0.2341, Train: 84.29%, Valid: 18.00% Test: 19.80%\n",
            "Epoch: 87, Loss: 0.0300, Train: 85.00%, Valid: 18.00% Test: 19.80%\n",
            "Epoch: 88, Loss: 0.0090, Train: 86.43%, Valid: 18.60% Test: 19.70%\n",
            "Epoch: 89, Loss: 0.0997, Train: 87.14%, Valid: 19.40% Test: 20.50%\n",
            "Epoch: 90, Loss: 0.0275, Train: 87.14%, Valid: 19.60% Test: 21.10%\n",
            "Epoch: 91, Loss: 0.5831, Train: 88.57%, Valid: 21.60% Test: 21.60%\n",
            "Epoch: 92, Loss: 0.0044, Train: 88.57%, Valid: 20.20% Test: 22.30%\n",
            "Epoch: 93, Loss: 0.0336, Train: 88.57%, Valid: 21.60% Test: 22.30%\n",
            "Epoch: 94, Loss: 0.0850, Train: 88.57%, Valid: 22.00% Test: 23.10%\n",
            "Epoch: 95, Loss: 0.1968, Train: 88.57%, Valid: 23.00% Test: 23.60%\n",
            "Epoch: 96, Loss: 0.1324, Train: 88.57%, Valid: 23.00% Test: 24.60%\n",
            "Epoch: 97, Loss: 0.0301, Train: 87.86%, Valid: 22.60% Test: 24.00%\n",
            "Epoch: 98, Loss: 0.0656, Train: 87.14%, Valid: 23.20% Test: 24.40%\n",
            "Epoch: 99, Loss: 0.0069, Train: 87.86%, Valid: 22.00% Test: 24.30%\n",
            "Epoch: 100, Loss: 0.0180, Train: 86.43%, Valid: 22.60% Test: 24.60%\n",
            "Epoch: 101, Loss: 0.0471, Train: 86.43%, Valid: 23.60% Test: 25.80%\n",
            "Epoch: 102, Loss: 0.1026, Train: 85.71%, Valid: 23.60% Test: 26.00%\n",
            "Epoch: 103, Loss: 0.1887, Train: 85.71%, Valid: 23.80% Test: 26.10%\n",
            "Epoch: 104, Loss: 0.0009, Train: 86.43%, Valid: 24.40% Test: 25.80%\n",
            "Epoch: 105, Loss: 0.0073, Train: 86.43%, Valid: 23.80% Test: 25.30%\n",
            "Epoch: 106, Loss: 0.0025, Train: 86.43%, Valid: 24.00% Test: 25.60%\n",
            "Epoch: 107, Loss: 0.0022, Train: 86.43%, Valid: 24.20% Test: 25.30%\n",
            "Epoch: 108, Loss: 0.5393, Train: 86.43%, Valid: 24.00% Test: 25.30%\n",
            "Epoch: 109, Loss: 0.0020, Train: 86.43%, Valid: 23.40% Test: 25.20%\n",
            "Epoch: 110, Loss: 0.3416, Train: 86.43%, Valid: 24.40% Test: 24.70%\n",
            "Epoch: 111, Loss: 0.0028, Train: 86.43%, Valid: 24.80% Test: 24.90%\n",
            "Epoch: 112, Loss: 0.1929, Train: 85.71%, Valid: 23.80% Test: 24.90%\n",
            "Epoch: 113, Loss: 1.3584, Train: 86.43%, Valid: 24.20% Test: 24.90%\n",
            "Epoch: 114, Loss: 0.0379, Train: 87.14%, Valid: 24.00% Test: 24.60%\n",
            "Epoch: 115, Loss: 0.1407, Train: 87.86%, Valid: 24.00% Test: 24.70%\n",
            "Epoch: 116, Loss: 0.0137, Train: 87.86%, Valid: 24.40% Test: 25.20%\n",
            "Epoch: 117, Loss: 0.0036, Train: 87.86%, Valid: 24.20% Test: 24.50%\n",
            "Epoch: 118, Loss: 0.1759, Train: 87.86%, Valid: 23.40% Test: 23.90%\n",
            "Epoch: 119, Loss: 0.0119, Train: 87.86%, Valid: 24.00% Test: 24.30%\n",
            "Epoch: 120, Loss: 0.0121, Train: 87.86%, Valid: 24.20% Test: 25.50%\n",
            "Epoch: 121, Loss: 0.0491, Train: 87.86%, Valid: 23.60% Test: 25.40%\n",
            "Epoch: 122, Loss: 0.0042, Train: 87.86%, Valid: 23.80% Test: 25.60%\n",
            "Epoch: 123, Loss: 0.2663, Train: 88.57%, Valid: 25.00% Test: 26.50%\n",
            "Epoch: 124, Loss: 0.0060, Train: 88.57%, Valid: 25.00% Test: 26.60%\n",
            "Epoch: 125, Loss: 0.0297, Train: 88.57%, Valid: 24.00% Test: 26.50%\n",
            "Epoch: 126, Loss: 0.0011, Train: 89.29%, Valid: 25.20% Test: 26.40%\n",
            "Epoch: 127, Loss: 0.0790, Train: 89.29%, Valid: 25.20% Test: 26.50%\n",
            "Epoch: 128, Loss: 0.0225, Train: 89.29%, Valid: 25.60% Test: 26.60%\n",
            "Epoch: 129, Loss: 0.0292, Train: 88.57%, Valid: 25.20% Test: 27.30%\n",
            "Epoch: 130, Loss: 0.0030, Train: 88.57%, Valid: 25.00% Test: 27.40%\n",
            "Epoch: 131, Loss: 0.1476, Train: 88.57%, Valid: 25.40% Test: 27.50%\n",
            "Epoch: 132, Loss: 0.0573, Train: 88.57%, Valid: 25.20% Test: 27.90%\n",
            "Epoch: 133, Loss: 0.2424, Train: 89.29%, Valid: 25.00% Test: 27.60%\n",
            "Epoch: 134, Loss: 0.0015, Train: 89.29%, Valid: 25.40% Test: 28.20%\n",
            "Epoch: 135, Loss: 0.3080, Train: 87.86%, Valid: 24.80% Test: 28.30%\n",
            "Epoch: 136, Loss: 0.0007, Train: 87.86%, Valid: 25.40% Test: 27.40%\n",
            "Epoch: 137, Loss: 0.0164, Train: 87.86%, Valid: 24.40% Test: 27.70%\n",
            "Epoch: 138, Loss: 0.1107, Train: 87.86%, Valid: 24.40% Test: 28.00%\n",
            "Epoch: 139, Loss: 0.0020, Train: 87.86%, Valid: 24.40% Test: 27.90%\n",
            "Epoch: 140, Loss: 0.0007, Train: 87.86%, Valid: 25.40% Test: 28.40%\n",
            "Epoch: 141, Loss: 0.0000, Train: 87.86%, Valid: 25.60% Test: 27.80%\n",
            "Epoch: 142, Loss: 0.2466, Train: 87.86%, Valid: 25.20% Test: 27.90%\n",
            "Epoch: 143, Loss: 0.0080, Train: 88.57%, Valid: 25.60% Test: 27.80%\n",
            "Epoch: 144, Loss: 0.1090, Train: 88.57%, Valid: 25.80% Test: 27.90%\n",
            "Epoch: 145, Loss: 0.0008, Train: 88.57%, Valid: 26.80% Test: 27.60%\n",
            "Epoch: 146, Loss: 0.0001, Train: 88.57%, Valid: 25.20% Test: 27.70%\n",
            "Epoch: 147, Loss: 0.7858, Train: 90.00%, Valid: 24.80% Test: 26.60%\n",
            "Epoch: 148, Loss: 0.2642, Train: 90.00%, Valid: 24.60% Test: 25.70%\n",
            "Epoch: 149, Loss: 0.0694, Train: 90.00%, Valid: 24.40% Test: 26.40%\n",
            "Epoch: 150, Loss: 0.0079, Train: 89.29%, Valid: 24.40% Test: 26.40%\n",
            "Best model: Train: 88.57%, Valid: 26.80% Test: 27.60%\n"
          ],
          "name": "stdout"
        }
      ]
    },
    {
      "cell_type": "markdown",
      "metadata": {
        "id": "D5edKKT6Vk1C"
      },
      "source": [
        "## Full-Batch Training"
      ]
    },
    {
      "cell_type": "code",
      "metadata": {
        "id": "N5tIXxC8ViFD",
        "outputId": "c9964eb5-dfec-4ff8-d87c-a1b52c2a4c82",
        "colab": {
          "base_uri": "https://localhost:8080/"
        }
      },
      "source": [
        "graphs_train, graphs_val, graphs_test = \\\n",
        "    GraphDataset.pyg_to_graphs(pyg_dataset, verbose=True, fixed_split=True)\n",
        "\n",
        "graph_train = graphs_train[0]\n",
        "graph_val = graphs_val[0]\n",
        "graph_test = graphs_test[0]\n",
        "\n",
        "model = GNN(graph_train.num_node_features, args['hidden_size'], graph_train.num_node_labels, args).to(args['device'])\n",
        "optimizer = torch.optim.Adam(model.parameters(), lr=args['lr'])\n",
        "graphs = [graph_train, graph_val, graph_test]\n",
        "all_best_model, all_accs = train(graphs, graphs, args, model, optimizer, mode=\"all\")\n",
        "train_acc, val_acc, test_acc = test([graph_train, graph_val, graph_test], all_best_model)\n",
        "print('Best model:',\n",
        "      f'Train: {100 * train_acc:.2f}%, '\n",
        "      f'Valid: {100 * val_acc:.2f}% '\n",
        "      f'Test: {100 * test_acc:.2f}%')"
      ],
      "execution_count": 30,
      "outputs": [
        {
          "output_type": "stream",
          "text": [
            "Index fields: train_mask ignored.\n",
            "Index fields: val_mask ignored.\n",
            "Index fields: test_mask ignored.\n",
            "Epoch: 01, Loss: 2.0021, Train: 47.86%, Valid: 22.80% Test: 20.80%\n",
            "Epoch: 02, Loss: 1.1267, Train: 90.00%, Valid: 38.80% Test: 40.60%\n",
            "Epoch: 03, Loss: 0.6480, Train: 99.29%, Valid: 54.00% Test: 54.80%\n",
            "Epoch: 04, Loss: 0.3184, Train: 99.29%, Valid: 64.00% Test: 63.10%\n",
            "Epoch: 05, Loss: 0.1610, Train: 99.29%, Valid: 68.80% Test: 68.00%\n",
            "Epoch: 06, Loss: 0.0934, Train: 100.00%, Valid: 70.40% Test: 69.80%\n",
            "Epoch: 07, Loss: 0.0337, Train: 100.00%, Valid: 70.60% Test: 71.00%\n",
            "Epoch: 08, Loss: 0.0199, Train: 100.00%, Valid: 71.20% Test: 72.40%\n",
            "Epoch: 09, Loss: 0.0192, Train: 100.00%, Valid: 71.00% Test: 73.40%\n",
            "Epoch: 10, Loss: 0.0073, Train: 100.00%, Valid: 71.60% Test: 73.80%\n",
            "Epoch: 11, Loss: 0.0086, Train: 100.00%, Valid: 71.40% Test: 74.10%\n",
            "Epoch: 12, Loss: 0.0035, Train: 100.00%, Valid: 72.00% Test: 74.30%\n",
            "Epoch: 13, Loss: 0.0014, Train: 100.00%, Valid: 72.00% Test: 74.40%\n",
            "Epoch: 14, Loss: 0.0017, Train: 100.00%, Valid: 72.00% Test: 74.30%\n",
            "Epoch: 15, Loss: 0.0007, Train: 100.00%, Valid: 71.80% Test: 74.50%\n",
            "Epoch: 16, Loss: 0.0030, Train: 100.00%, Valid: 71.80% Test: 74.90%\n",
            "Epoch: 17, Loss: 0.0006, Train: 100.00%, Valid: 71.20% Test: 75.00%\n",
            "Epoch: 18, Loss: 0.0005, Train: 100.00%, Valid: 70.80% Test: 74.90%\n",
            "Epoch: 19, Loss: 0.0001, Train: 100.00%, Valid: 71.40% Test: 75.20%\n",
            "Epoch: 20, Loss: 0.0009, Train: 100.00%, Valid: 71.40% Test: 74.90%\n",
            "Epoch: 21, Loss: 0.0012, Train: 100.00%, Valid: 71.40% Test: 74.70%\n",
            "Epoch: 22, Loss: 0.0001, Train: 100.00%, Valid: 71.60% Test: 74.70%\n",
            "Epoch: 23, Loss: 0.0001, Train: 100.00%, Valid: 71.60% Test: 74.60%\n",
            "Epoch: 24, Loss: 0.0008, Train: 100.00%, Valid: 71.40% Test: 74.50%\n",
            "Epoch: 25, Loss: 0.0002, Train: 100.00%, Valid: 71.40% Test: 74.60%\n",
            "Epoch: 26, Loss: 0.0001, Train: 100.00%, Valid: 71.20% Test: 74.50%\n",
            "Epoch: 27, Loss: 0.0006, Train: 100.00%, Valid: 71.40% Test: 74.70%\n",
            "Epoch: 28, Loss: 0.0001, Train: 100.00%, Valid: 71.40% Test: 74.80%\n",
            "Epoch: 29, Loss: 0.0002, Train: 100.00%, Valid: 71.40% Test: 74.90%\n",
            "Epoch: 30, Loss: 0.0000, Train: 100.00%, Valid: 71.40% Test: 74.90%\n",
            "Epoch: 31, Loss: 0.0000, Train: 100.00%, Valid: 71.40% Test: 74.90%\n",
            "Epoch: 32, Loss: 0.0002, Train: 100.00%, Valid: 71.40% Test: 74.90%\n",
            "Epoch: 33, Loss: 0.0001, Train: 100.00%, Valid: 71.40% Test: 75.00%\n",
            "Epoch: 34, Loss: 0.0001, Train: 100.00%, Valid: 71.40% Test: 75.10%\n",
            "Epoch: 35, Loss: 0.0000, Train: 100.00%, Valid: 71.20% Test: 75.20%\n",
            "Epoch: 36, Loss: 0.0001, Train: 100.00%, Valid: 71.20% Test: 75.20%\n",
            "Epoch: 37, Loss: 0.0002, Train: 100.00%, Valid: 71.40% Test: 75.10%\n",
            "Epoch: 38, Loss: 0.0011, Train: 100.00%, Valid: 71.40% Test: 75.10%\n",
            "Epoch: 39, Loss: 0.0000, Train: 100.00%, Valid: 71.60% Test: 75.10%\n",
            "Epoch: 40, Loss: 0.0001, Train: 100.00%, Valid: 71.60% Test: 75.10%\n",
            "Epoch: 41, Loss: 0.0001, Train: 100.00%, Valid: 71.60% Test: 75.20%\n",
            "Epoch: 42, Loss: 0.0002, Train: 100.00%, Valid: 71.60% Test: 75.20%\n",
            "Epoch: 43, Loss: 0.0001, Train: 100.00%, Valid: 71.60% Test: 75.30%\n",
            "Epoch: 44, Loss: 0.0000, Train: 100.00%, Valid: 71.60% Test: 75.30%\n",
            "Epoch: 45, Loss: 0.0002, Train: 100.00%, Valid: 71.60% Test: 75.40%\n",
            "Epoch: 46, Loss: 0.0000, Train: 100.00%, Valid: 71.60% Test: 75.40%\n",
            "Epoch: 47, Loss: 0.0002, Train: 100.00%, Valid: 71.60% Test: 75.30%\n",
            "Epoch: 48, Loss: 0.0001, Train: 100.00%, Valid: 71.60% Test: 75.30%\n",
            "Epoch: 49, Loss: 0.0000, Train: 100.00%, Valid: 71.60% Test: 75.30%\n",
            "Epoch: 50, Loss: 0.0000, Train: 100.00%, Valid: 71.60% Test: 75.30%\n",
            "Epoch: 51, Loss: 0.0000, Train: 100.00%, Valid: 71.60% Test: 75.30%\n",
            "Epoch: 52, Loss: 0.0000, Train: 100.00%, Valid: 71.20% Test: 75.30%\n",
            "Epoch: 53, Loss: 0.0000, Train: 100.00%, Valid: 71.20% Test: 75.30%\n",
            "Epoch: 54, Loss: 0.0001, Train: 100.00%, Valid: 71.20% Test: 75.30%\n",
            "Epoch: 55, Loss: 0.0001, Train: 100.00%, Valid: 71.20% Test: 75.40%\n",
            "Epoch: 56, Loss: 0.0000, Train: 100.00%, Valid: 71.20% Test: 75.40%\n",
            "Epoch: 57, Loss: 0.0000, Train: 100.00%, Valid: 71.20% Test: 75.40%\n",
            "Epoch: 58, Loss: 0.0002, Train: 100.00%, Valid: 71.40% Test: 75.40%\n",
            "Epoch: 59, Loss: 0.0003, Train: 100.00%, Valid: 71.40% Test: 75.40%\n",
            "Epoch: 60, Loss: 0.0001, Train: 100.00%, Valid: 71.40% Test: 75.40%\n",
            "Epoch: 61, Loss: 0.0127, Train: 100.00%, Valid: 71.40% Test: 75.30%\n",
            "Epoch: 62, Loss: 0.0000, Train: 100.00%, Valid: 71.60% Test: 75.30%\n",
            "Epoch: 63, Loss: 0.0000, Train: 100.00%, Valid: 72.20% Test: 75.20%\n",
            "Epoch: 64, Loss: 0.0000, Train: 100.00%, Valid: 72.20% Test: 74.80%\n",
            "Epoch: 65, Loss: 0.0000, Train: 100.00%, Valid: 72.40% Test: 74.80%\n",
            "Epoch: 66, Loss: 0.0000, Train: 100.00%, Valid: 72.40% Test: 74.90%\n",
            "Epoch: 67, Loss: 0.0000, Train: 100.00%, Valid: 72.20% Test: 75.00%\n",
            "Epoch: 68, Loss: 0.0000, Train: 100.00%, Valid: 72.20% Test: 75.30%\n",
            "Epoch: 69, Loss: 0.0000, Train: 100.00%, Valid: 72.40% Test: 75.30%\n",
            "Epoch: 70, Loss: 0.0001, Train: 100.00%, Valid: 72.40% Test: 75.20%\n",
            "Epoch: 71, Loss: 0.0003, Train: 100.00%, Valid: 72.40% Test: 75.20%\n",
            "Epoch: 72, Loss: 0.0001, Train: 100.00%, Valid: 72.40% Test: 75.30%\n",
            "Epoch: 73, Loss: 0.0001, Train: 100.00%, Valid: 72.40% Test: 75.40%\n",
            "Epoch: 74, Loss: 0.0000, Train: 100.00%, Valid: 72.40% Test: 75.40%\n",
            "Epoch: 75, Loss: 0.0000, Train: 100.00%, Valid: 72.40% Test: 75.30%\n",
            "Epoch: 76, Loss: 0.0000, Train: 100.00%, Valid: 72.40% Test: 75.40%\n",
            "Epoch: 77, Loss: 0.0000, Train: 100.00%, Valid: 72.40% Test: 75.40%\n",
            "Epoch: 78, Loss: 0.0001, Train: 100.00%, Valid: 72.40% Test: 75.40%\n",
            "Epoch: 79, Loss: 0.0000, Train: 100.00%, Valid: 72.60% Test: 75.30%\n",
            "Epoch: 80, Loss: 0.0003, Train: 100.00%, Valid: 72.60% Test: 75.30%\n",
            "Epoch: 81, Loss: 0.0000, Train: 100.00%, Valid: 72.60% Test: 75.20%\n",
            "Epoch: 82, Loss: 0.0000, Train: 100.00%, Valid: 72.60% Test: 75.30%\n",
            "Epoch: 83, Loss: 0.0000, Train: 100.00%, Valid: 72.80% Test: 75.30%\n",
            "Epoch: 84, Loss: 0.0001, Train: 100.00%, Valid: 72.80% Test: 75.40%\n",
            "Epoch: 85, Loss: 0.0000, Train: 100.00%, Valid: 73.00% Test: 75.40%\n",
            "Epoch: 86, Loss: 0.0001, Train: 100.00%, Valid: 72.80% Test: 75.50%\n",
            "Epoch: 87, Loss: 0.0002, Train: 100.00%, Valid: 72.80% Test: 75.50%\n",
            "Epoch: 88, Loss: 0.0000, Train: 100.00%, Valid: 73.00% Test: 75.50%\n",
            "Epoch: 89, Loss: 0.0000, Train: 100.00%, Valid: 73.00% Test: 75.50%\n",
            "Epoch: 90, Loss: 0.0007, Train: 100.00%, Valid: 72.80% Test: 75.50%\n",
            "Epoch: 91, Loss: 0.0000, Train: 100.00%, Valid: 72.80% Test: 75.30%\n",
            "Epoch: 92, Loss: 0.0000, Train: 100.00%, Valid: 72.80% Test: 75.30%\n",
            "Epoch: 93, Loss: 0.0001, Train: 100.00%, Valid: 72.80% Test: 75.30%\n",
            "Epoch: 94, Loss: 0.0000, Train: 100.00%, Valid: 72.80% Test: 75.20%\n",
            "Epoch: 95, Loss: 0.0000, Train: 100.00%, Valid: 72.80% Test: 75.30%\n",
            "Epoch: 96, Loss: 0.0002, Train: 100.00%, Valid: 72.60% Test: 75.30%\n",
            "Epoch: 97, Loss: 0.0000, Train: 100.00%, Valid: 72.60% Test: 75.30%\n",
            "Epoch: 98, Loss: 0.0000, Train: 100.00%, Valid: 72.60% Test: 75.30%\n",
            "Epoch: 99, Loss: 0.0000, Train: 100.00%, Valid: 72.60% Test: 75.30%\n",
            "Epoch: 100, Loss: 0.0000, Train: 100.00%, Valid: 72.60% Test: 75.30%\n",
            "Epoch: 101, Loss: 0.0000, Train: 100.00%, Valid: 72.60% Test: 75.20%\n",
            "Epoch: 102, Loss: 0.0003, Train: 100.00%, Valid: 72.60% Test: 75.20%\n",
            "Epoch: 103, Loss: 0.0000, Train: 100.00%, Valid: 72.40% Test: 75.20%\n",
            "Epoch: 104, Loss: 0.0001, Train: 100.00%, Valid: 72.40% Test: 75.30%\n",
            "Epoch: 105, Loss: 0.0000, Train: 100.00%, Valid: 72.40% Test: 75.30%\n",
            "Epoch: 106, Loss: 0.0000, Train: 100.00%, Valid: 72.40% Test: 75.30%\n",
            "Epoch: 107, Loss: 0.0000, Train: 100.00%, Valid: 72.40% Test: 75.30%\n",
            "Epoch: 108, Loss: 0.0001, Train: 100.00%, Valid: 72.40% Test: 75.30%\n",
            "Epoch: 109, Loss: 0.0000, Train: 100.00%, Valid: 72.60% Test: 75.30%\n",
            "Epoch: 110, Loss: 0.0001, Train: 100.00%, Valid: 72.60% Test: 75.30%\n",
            "Epoch: 111, Loss: 0.0000, Train: 100.00%, Valid: 72.60% Test: 75.40%\n",
            "Epoch: 112, Loss: 0.0001, Train: 100.00%, Valid: 72.60% Test: 75.40%\n",
            "Epoch: 113, Loss: 0.0000, Train: 100.00%, Valid: 72.60% Test: 75.40%\n",
            "Epoch: 114, Loss: 0.0001, Train: 100.00%, Valid: 72.60% Test: 75.50%\n",
            "Epoch: 115, Loss: 0.0006, Train: 100.00%, Valid: 72.60% Test: 75.30%\n",
            "Epoch: 116, Loss: 0.0000, Train: 100.00%, Valid: 72.60% Test: 75.30%\n",
            "Epoch: 117, Loss: 0.0001, Train: 100.00%, Valid: 72.40% Test: 75.40%\n",
            "Epoch: 118, Loss: 0.0003, Train: 100.00%, Valid: 72.40% Test: 75.50%\n",
            "Epoch: 119, Loss: 0.0000, Train: 100.00%, Valid: 72.80% Test: 75.50%\n",
            "Epoch: 120, Loss: 0.0002, Train: 100.00%, Valid: 72.80% Test: 75.50%\n",
            "Epoch: 121, Loss: 0.0000, Train: 100.00%, Valid: 73.00% Test: 75.50%\n",
            "Epoch: 122, Loss: 0.0000, Train: 100.00%, Valid: 73.00% Test: 75.50%\n",
            "Epoch: 123, Loss: 0.0000, Train: 100.00%, Valid: 73.00% Test: 75.50%\n",
            "Epoch: 124, Loss: 0.0001, Train: 100.00%, Valid: 73.00% Test: 75.50%\n",
            "Epoch: 125, Loss: 0.0000, Train: 100.00%, Valid: 73.00% Test: 75.50%\n",
            "Epoch: 126, Loss: 0.0001, Train: 100.00%, Valid: 73.00% Test: 75.60%\n",
            "Epoch: 127, Loss: 0.0000, Train: 100.00%, Valid: 73.00% Test: 75.60%\n",
            "Epoch: 128, Loss: 0.0000, Train: 100.00%, Valid: 72.80% Test: 75.60%\n",
            "Epoch: 129, Loss: 0.0000, Train: 100.00%, Valid: 72.80% Test: 75.50%\n",
            "Epoch: 130, Loss: 0.0000, Train: 100.00%, Valid: 72.80% Test: 75.50%\n",
            "Epoch: 131, Loss: 0.0015, Train: 100.00%, Valid: 73.00% Test: 75.30%\n",
            "Epoch: 132, Loss: 0.0000, Train: 100.00%, Valid: 73.00% Test: 75.30%\n",
            "Epoch: 133, Loss: 0.0000, Train: 100.00%, Valid: 73.40% Test: 75.30%\n",
            "Epoch: 134, Loss: 0.0001, Train: 100.00%, Valid: 73.40% Test: 75.20%\n",
            "Epoch: 135, Loss: 0.0007, Train: 100.00%, Valid: 73.00% Test: 75.30%\n",
            "Epoch: 136, Loss: 0.0001, Train: 100.00%, Valid: 73.00% Test: 75.20%\n",
            "Epoch: 137, Loss: 0.0002, Train: 100.00%, Valid: 73.00% Test: 75.20%\n",
            "Epoch: 138, Loss: 0.0000, Train: 100.00%, Valid: 73.00% Test: 75.20%\n",
            "Epoch: 139, Loss: 0.0001, Train: 100.00%, Valid: 73.00% Test: 75.30%\n",
            "Epoch: 140, Loss: 0.0000, Train: 100.00%, Valid: 73.20% Test: 75.20%\n",
            "Epoch: 141, Loss: 0.0001, Train: 100.00%, Valid: 73.20% Test: 75.00%\n",
            "Epoch: 142, Loss: 0.0001, Train: 100.00%, Valid: 73.00% Test: 75.00%\n",
            "Epoch: 143, Loss: 0.0000, Train: 100.00%, Valid: 73.00% Test: 74.90%\n",
            "Epoch: 144, Loss: 0.0000, Train: 100.00%, Valid: 73.00% Test: 75.00%\n",
            "Epoch: 145, Loss: 0.0000, Train: 100.00%, Valid: 73.00% Test: 75.20%\n",
            "Epoch: 146, Loss: 0.0000, Train: 100.00%, Valid: 73.00% Test: 75.20%\n",
            "Epoch: 147, Loss: 0.0000, Train: 100.00%, Valid: 73.00% Test: 75.20%\n",
            "Epoch: 148, Loss: 0.0000, Train: 100.00%, Valid: 73.00% Test: 75.20%\n",
            "Epoch: 149, Loss: 0.0000, Train: 100.00%, Valid: 73.00% Test: 75.20%\n",
            "Epoch: 150, Loss: 0.0000, Train: 100.00%, Valid: 73.00% Test: 75.20%\n",
            "Best model: Train: 100.00%, Valid: 73.40% Test: 75.30%\n"
          ],
          "name": "stdout"
        }
      ]
    },
    {
      "cell_type": "markdown",
      "metadata": {
        "id": "6RpuETv7Vpx0"
      },
      "source": [
        "## Visualization"
      ]
    },
    {
      "cell_type": "code",
      "metadata": {
        "id": "PMK33kY5VmF5",
        "outputId": "7ff875a7-5de4-410d-b368-a9b19965998d",
        "colab": {
          "base_uri": "https://localhost:8080/",
          "height": 458
        }
      },
      "source": [
        "import numpy as np\n",
        "from matplotlib import pyplot as plt\n",
        "\n",
        "louvain_results = np.array(louvain_accs)\n",
        "bisection_results = np.array(bisection_accs)\n",
        "greedy_results = np.array(greedy_accs)\n",
        "all_results = np.array(all_accs)\n",
        "\n",
        "x = np.arange(1, 151)\n",
        "\n",
        "plt.figure(figsize=(9, 7))\n",
        "\n",
        "plt.plot(x, louvain_results[:, 1], label=\"Louvain Validation\")\n",
        "plt.plot(x, louvain_results[:, 2], label=\"Louvain Test\")\n",
        "plt.plot(x, bisection_results[:, 1], label=\"Bisection Validation\")\n",
        "plt.plot(x, bisection_results[:, 2], label=\"Bisection Test\")\n",
        "plt.plot(x, greedy_results[:, 1], label=\"Greedy Validation\")\n",
        "plt.plot(x, greedy_results[:, 2], label=\"Greedy Test\")\n",
        "plt.plot(x, all_results[:, 1], label=\"All Validation\")\n",
        "plt.plot(x, all_results[:, 2], label=\"All Test\")\n",
        "plt.title('Model Accuracy')\n",
        "plt.ylabel('Accuracy')\n",
        "plt.xlabel('Epoch')\n",
        "plt.legend()\n",
        "plt.show()"
      ],
      "execution_count": 31,
      "outputs": [
        {
          "output_type": "display_data",
          "data": {
            "image/png": "[encoded data removed]",
            "text/plain": [
              "<Figure size 648x504 with 1 Axes>"
            ]
          },
          "metadata": {
            "tags": [],
            "needs_background": "light"
          }
        }
      ]
    }
  ]
}